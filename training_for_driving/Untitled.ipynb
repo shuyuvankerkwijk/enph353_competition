{
 "cells": [
  {
   "cell_type": "code",
   "execution_count": 3,
   "id": "36ead535-3b7e-4633-bad1-e252fa3c3a28",
   "metadata": {},
   "outputs": [],
   "source": [
    "import os\n",
    "import cv2\n",
    "\n",
    "# Desired dimensions\n",
    "IMG_HEIGHT = 316\n",
    "IMG_WIDTH = 384\n",
    "\n",
    "# Directory containing the images\n",
    "IMAGE_DIR = '/home/fizzer/ros_ws/training_for_driving/Gravel/images'  # <-- Change this to your image folder\n",
    "\n",
    "# Supported image extensions\n",
    "IMAGE_EXTENSIONS = ('.png')\n",
    "\n",
    "# Iterate through all files in the directory\n",
    "for filename in os.listdir(IMAGE_DIR):\n",
    "    if filename.lower().endswith(IMAGE_EXTENSIONS):\n",
    "        filepath = os.path.join(IMAGE_DIR, filename)\n",
    "        img = cv2.imread(filepath)\n",
    "\n",
    "        if img is None:\n",
    "            print(f\"Warning: Unable to open {filename}. Skipping.\")\n",
    "            continue\n",
    "\n",
    "        height, width = img.shape[:2]\n",
    "\n",
    "        if height != IMG_HEIGHT or width != IMG_WIDTH:\n",
    "            resized_img = cv2.resize(img, (IMG_WIDTH, IMG_HEIGHT), interpolation=cv2.INTER_LINEAR)\n",
    "            cv2.imwrite(filepath, resized_img)\n"
   ]
  },
  {
   "cell_type": "code",
   "execution_count": null,
   "id": "1bb33fc4-1679-4162-8ac4-d94f61f458ee",
   "metadata": {},
   "outputs": [],
   "source": []
  }
 ],
 "metadata": {
  "kernelspec": {
   "display_name": "Python 3 (ipykernel)",
   "language": "python",
   "name": "python3"
  },
  "language_info": {
   "codemirror_mode": {
    "name": "ipython",
    "version": 3
   },
   "file_extension": ".py",
   "mimetype": "text/x-python",
   "name": "python",
   "nbconvert_exporter": "python",
   "pygments_lexer": "ipython3",
   "version": "3.8.10"
  }
 },
 "nbformat": 4,
 "nbformat_minor": 5
}
