{
 "cells": [
  {
   "cell_type": "code",
   "execution_count": 26,
   "metadata": {
    "id": "eFflCGxCWPGW"
   },
   "outputs": [],
   "source": [
    "import os\n",
    "import cv2\n",
    "import time\n",
    "import string\n",
    "import random\n",
    "import numpy as np\n",
    "import collections\n",
    "import tensorflow as tf\n",
    "from random import randint\n",
    "import matplotlib.pyplot as plt\n",
    "from PIL import Image, ImageFont, ImageDraw\n",
    "from tensorflow.keras import layers, models, optimizers\n",
    "from tensorflow.keras.preprocessing.image import ImageDataGenerator"
   ]
  },
  {
   "cell_type": "code",
   "execution_count": null,
   "metadata": {
    "colab": {
     "base_uri": "https://localhost:8080/"
    },
    "id": "DnS4HynFWaOD",
    "outputId": "09902b96-13bd-44ac-9fb1-8ec389032b93"
   },
   "outputs": [
    {
     "data": {
      "text/plain": [
       "['image_20250316_155643_957192_Road_Lin_0.97_Ang_-0.00.png',\n",
       " 'image_20250316_155644_224541_Road_Lin_0.97_Ang_-0.00.png',\n",
       " 'image_20250316_155644_487286_Road_Lin_0.97_Ang_-0.00.png',\n",
       " 'image_20250316_155644_753888_Road_Lin_0.97_Ang_-0.57.png']"
      ]
     },
     "execution_count": 3,
     "metadata": {},
     "output_type": "execute_result"
    }
   ],
   "source": [
    "folder = \"drive/MyDrive/images_for_sign_reading\"\n",
    "\n",
    "filenames = []\n",
    "\n",
    "for file in os.listdir(folder):\n",
    "  filenames.append(file)\n",
    "\n",
    "filenames.sort()\n",
    "filenames = filenames[3:]\n",
    "filenames[0:4]"
   ]
  },
  {
   "cell_type": "code",
   "execution_count": null,
   "metadata": {
    "colab": {
     "base_uri": "https://localhost:8080/"
    },
    "id": "FsUdDpGRHe-y",
    "outputId": "13ff48c3-28f1-415e-e7ba-ee3866268dea"
   },
   "outputs": [
    {
     "name": "stdout",
     "output_type": "stream",
     "text": [
      "Saved downscaled template as 'template_full.png'\n"
     ]
    }
   ],
   "source": [
    "# folder = \"drive/MyDrive/images_for_sign_reading\"\n",
    "# template_img = cv2.imread(folder + \"/full_sign.jpg\")\n",
    "\n",
    "# final_size = (2400, 1400)  # width x height\n",
    "# downscaled_template = cv2.resize(template_img, final_size, interpolation=cv2.INTER_AREA)\n",
    "\n",
    "# # Save the downscaled template image\n",
    "# cv2.imwrite(\"template_full.png\", downscaled_template)\n",
    "# print(\"Saved downscaled template as 'template_full.png'\")"
   ]
  },
  {
   "cell_type": "code",
   "execution_count": null,
   "metadata": {
    "id": "8mBtb32CeGve"
   },
   "outputs": [],
   "source": [
    "# save_folder = \"drive/MyDrive/letter_crops\"\n",
    "# os.makedirs(save_folder, exist_ok=True)"
   ]
  },
  {
   "cell_type": "markdown",
   "metadata": {
    "id": "XEKS0_HTWDtx"
   },
   "source": [
    "# Image generation and labelling"
   ]
  },
  {
   "cell_type": "code",
   "execution_count": null,
   "metadata": {
    "id": "sB8K1fHZWweU"
   },
   "outputs": [],
   "source": [
    "# setup object detection\n",
    "sift = cv2.SIFT_create()\n",
    "index_params = dict(algorithm=0, trees=5)\n",
    "search_params = dict()\n",
    "flann = cv2.FlannBasedMatcher(index_params, search_params)"
   ]
  },
  {
   "cell_type": "code",
   "execution_count": null,
   "metadata": {
    "id": "s7NbwMkIWFVH"
   },
   "outputs": [],
   "source": [
    "def detection(i, filename):\n",
    "    ''' SIFT PART '''\n",
    "\n",
    "    # import images\n",
    "    template_img_bgr = cv2.imread(folder + \"/full_sign.jpg\")\n",
    "    query_img_bgr = cv2.imread(folder + \"/\" + filename)\n",
    "\n",
    "    template_img = cv2.cvtColor(template_img_bgr, cv2.COLOR_BGR2GRAY)\n",
    "    query_img = cv2.cvtColor(query_img_bgr, cv2.COLOR_BGR2GRAY)\n",
    "\n",
    "    # scale images\n",
    "    scale_template = 0.4\n",
    "    scale_query = 0.4\n",
    "    downscaled_template = cv2.resize(template_img, None, fx=scale_template, fy=scale_template, interpolation=cv2.INTER_AREA)\n",
    "    downscaled_query = cv2.resize(query_img, None, fx=scale_query, fy=scale_query, interpolation=cv2.INTER_AREA)\n",
    "\n",
    "    # SIFT\n",
    "    start_sift = time.time()\n",
    "    keypoints1, descriptors1 = sift.detectAndCompute(downscaled_template, None)\n",
    "    keypoints2, descriptors2 = sift.detectAndCompute(downscaled_query, None)\n",
    "    end_sift = time.time()\n",
    "\n",
    "    matches = flann.knnMatch(descriptors1, descriptors2, k=2)\n",
    "    good_matches = [m for m, n in matches if m.distance < 0.7 * n.distance]\n",
    "    MIN_MATCH_COUNT = 20\n",
    "\n",
    "    # warp image\n",
    "    if len(good_matches) <= MIN_MATCH_COUNT:\n",
    "        return end_sift - start_sift\n",
    "\n",
    "    src_pts = np.float32([keypoints1[m.queryIdx].pt for m in good_matches]).reshape(-1, 1, 2)\n",
    "    dst_pts = np.float32([keypoints2[m.trainIdx].pt for m in good_matches]).reshape(-1, 1, 2)\n",
    "    H, _ = cv2.findHomography(dst_pts, src_pts, cv2.RANSAC, 5.0)\n",
    "\n",
    "    if H is None or H.shape != (3, 3):\n",
    "        return end_sift - start_sift\n",
    "\n",
    "    S_query = np.array([[scale_query, 0, 0], [0, scale_query, 0], [0, 0, 1]], dtype=np.float32)\n",
    "    S_template_inv = np.array([[1/scale_template, 0, 0], [0, 1/scale_template, 0], [0, 0, 1]], dtype=np.float32)\n",
    "    H_original_scale = S_template_inv @ H @ S_query\n",
    "\n",
    "    warped_img = cv2.warpPerspective(query_img_bgr, H_original_scale, (template_img.shape[1], template_img.shape[0]))\n",
    "\n",
    "    #TODO: check if white frame surrounds fully on all sides\n",
    "    #TODO: determine if warp is 'good' or 'bad'\n",
    "\n",
    "    ''' CROPPING PART '''\n",
    "\n",
    "    # threshold by searching for blue\n",
    "    hsv = cv2.cvtColor(warped_img, cv2.COLOR_BGR2HSV)\n",
    "    lower_blue = np.array([100, 150, 50])\n",
    "    upper_blue = np.array([130, 255, 255])\n",
    "    blue_mask = cv2.inRange(hsv, lower_blue, upper_blue)\n",
    "\n",
    "    # clean up cracks and gaps\n",
    "    kernel = cv2.getStructuringElement(cv2.MORPH_RECT, (3, 3))\n",
    "    mask_cleaned = cv2.morphologyEx(blue_mask, cv2.MORPH_CLOSE, kernel, iterations=2)\n",
    "\n",
    "    # flood fill to get rid of the white surrounding frame starting at (10,10)\n",
    "    flood_filled = mask_cleaned.copy()\n",
    "    cv2.floodFill(flood_filled, None, (10, 10), 0)\n",
    "\n",
    "    #TODO: crop image in half, pass top half into CNN, bottom half keep processing\n",
    "\n",
    "    # find connected components\n",
    "    num_labels, labels, stats, centroids = cv2.connectedComponentsWithStats(flood_filled, connectivity=4)\n",
    "\n",
    "    # filter connected component blobs\n",
    "    min_area = 300\n",
    "    letter_boxes = []\n",
    "    for label in range(1, num_labels):  # skip label 0 (background)\n",
    "        x, y, w, h, area = stats[label]\n",
    "        if area >= min_area:\n",
    "            letter_boxes.append((x, y, w, h))\n",
    "\n",
    "    # sort in order top and bottom, and left to right\n",
    "    img_height = flood_filled.shape[0]\n",
    "    top_half = []\n",
    "    bottom_half = []\n",
    "\n",
    "    for box in letter_boxes:\n",
    "        x, y, w, h = box\n",
    "        center_y = y + h // 2\n",
    "        if center_y < img_height / 2:\n",
    "            top_half.append(box)\n",
    "        else:\n",
    "            bottom_half.append(box)\n",
    "\n",
    "    top_half = sorted(top_half, key=lambda b: b[0])\n",
    "    bottom_half = sorted(bottom_half, key=lambda b: b[0])\n",
    "    letter_boxes = top_half + bottom_half\n",
    "\n",
    "    # plot\n",
    "    plt.figure(figsize=(12, 5))\n",
    "    plt.subplot(1, 5, 1)\n",
    "    plt.imshow(downscaled_query, cmap='gray')\n",
    "    plt.title(\"Downscaled Query\")\n",
    "\n",
    "    plt.subplot(1, 5, 2)\n",
    "    plt.imshow(cv2.cvtColor(warped_img, cv2.COLOR_BGR2RGB))\n",
    "    plt.title(\"Warped Image\")\n",
    "\n",
    "    debug_img = cv2.cvtColor(flood_filled, cv2.COLOR_GRAY2BGR)\n",
    "    for (x, y, w, h) in letter_boxes:\n",
    "        cv2.rectangle(debug_img, (x, y), (x+w, y+h), (0, 255, 0), 2)\n",
    "\n",
    "    plt.subplot(1,5,3)\n",
    "    plt.imshow(mask_cleaned,  cmap='gray')\n",
    "    plt.title(\"Thresholded and Cleaned\")\n",
    "\n",
    "    plt.subplot(1,5,4)\n",
    "    plt.imshow(flood_filled,  cmap='gray')\n",
    "    plt.title(\"Flood Filled\")\n",
    "\n",
    "    plt.subplot(1, 5, 5)\n",
    "    plt.imshow(debug_img)\n",
    "    plt.title(\"Detected Letters\")\n",
    "    plt.axis('off')\n",
    "    plt.show()\n",
    "\n",
    "    # crop/pad all boxes to the same size\n",
    "    target_width = 200\n",
    "    target_height = 240\n",
    "\n",
    "    letter_crops = []\n",
    "\n",
    "    for (x, y, w, h) in letter_boxes:\n",
    "        crop = flood_filled[y:y+h, x:x+w]\n",
    "\n",
    "        if h > target_height or w > target_width:\n",
    "            crop = cv2.resize(crop, (min(w, target_width), min(h, target_height)), interpolation=cv2.INTER_AREA)\n",
    "            h, w = crop.shape\n",
    "\n",
    "        pad_top = (target_height - h) // 2\n",
    "        pad_bottom = target_height - h - pad_top\n",
    "        pad_left = (target_width - w) // 2\n",
    "        pad_right = target_width - w - pad_left\n",
    "\n",
    "        padded_crop = cv2.copyMakeBorder(\n",
    "            crop,\n",
    "            top=pad_top, bottom=pad_bottom,\n",
    "            left=pad_left, right=pad_right,\n",
    "            borderType=cv2.BORDER_CONSTANT,\n",
    "            value=0\n",
    "        )\n",
    "\n",
    "        letter_crops.append(padded_crop)\n",
    "\n",
    "    # Plot each cropped letter\n",
    "    if len(letter_crops) > 0:\n",
    "        for idx, crop in enumerate(letter_crops):\n",
    "            save_path = os.path.join(save_folder, f\"{i}{idx}.png\")\n",
    "            cv2.imwrite(save_path, crop)\n",
    "\n",
    "        cols = min(10, len(letter_crops))\n",
    "        rows = int(np.ceil(len(letter_crops) / cols))\n",
    "        fig, axs = plt.subplots(rows, cols, figsize=(2*cols, 2*rows))\n",
    "\n",
    "        if rows == 1:\n",
    "            axs = np.expand_dims(axs, axis=0)\n",
    "\n",
    "        for idx, crop in enumerate(letter_crops):\n",
    "            r, c = divmod(idx, cols)\n",
    "            axs[r][c].imshow(crop, cmap='gray')\n",
    "            axs[r][c].axis('off')\n",
    "\n",
    "        for i in range(len(letter_crops), rows * cols):\n",
    "            r, c = divmod(i, cols)\n",
    "            axs[r][c].axis('off')\n",
    "\n",
    "        plt.suptitle(\"Extracted Letters\", fontsize=16)\n",
    "        plt.tight_layout()\n",
    "        plt.show()\n",
    "    else:\n",
    "        print(f\"Frame {i}: No letters detected.\")\n",
    "\n",
    "    return end_sift - start_sift\n"
   ]
  },
  {
   "cell_type": "code",
   "execution_count": null,
   "metadata": {
    "colab": {
     "base_uri": "https://localhost:8080/"
    },
    "id": "vtgb7wfze40G",
    "outputId": "1eae94e3-781d-4687-9ec7-d0c5d2d78eed"
   },
   "outputs": [
    {
     "name": "stdout",
     "output_type": "stream",
     "text": [
      "261\n"
     ]
    }
   ],
   "source": [
    "print(len(filenames))"
   ]
  },
  {
   "cell_type": "code",
   "execution_count": null,
   "metadata": {
    "id": "0k4cbEEhcq9P"
   },
   "outputs": [],
   "source": [
    "n = 80\n",
    "random_filenames = random.sample(filenames, n)\n",
    "total_time = 0.0\n",
    "\n",
    "for i, filename in enumerate(random_filenames):\n",
    "    total_time = total_time + detection(i, filename)\n",
    "\n",
    "print(\"AVERAGE SIFT TIME: \", total_time/n)"
   ]
  },
  {
   "cell_type": "markdown",
   "metadata": {
    "id": "9b_1V62PqrIu"
   },
   "source": [
    "# Import labelled images"
   ]
  },
  {
   "cell_type": "code",
   "execution_count": 27,
   "metadata": {
    "colab": {
     "base_uri": "https://localhost:8080/"
    },
    "id": "F-6PbfbSqrqt",
    "outputId": "1cd27756-b716-4787-89cd-9a60f22aaf6c"
   },
   "outputs": [
    {
     "data": {
      "text/plain": [
       "['A_001.png', 'A_002.png', 'A_003.png', 'A_004.png']"
      ]
     },
     "execution_count": 27,
     "metadata": {},
     "output_type": "execute_result"
    }
   ],
   "source": [
    "image_folder = \"/home/fizzer/ros_ws/training_for_reading/letter_crops\"\n",
    "\n",
    "image_filenames = []\n",
    "\n",
    "for file in os.listdir(image_folder):\n",
    "  image_filenames.append(file)\n",
    "\n",
    "image_filenames.sort()\n",
    "image_filenames[0:4]"
   ]
  },
  {
   "cell_type": "code",
   "execution_count": 28,
   "metadata": {
    "colab": {
     "base_uri": "https://localhost:8080/"
    },
    "id": "bVV2fncatuJ8",
    "outputId": "e11d140a-2b45-4c94-9f4b-3ade0281fabb"
   },
   "outputs": [
    {
     "name": "stdout",
     "output_type": "stream",
     "text": [
      "Number of unique image files: 275\n"
     ]
    }
   ],
   "source": [
    "print(f\"Number of unique image files: {len(set(image_filenames))}\")"
   ]
  },
  {
   "cell_type": "code",
   "execution_count": 29,
   "metadata": {
    "colab": {
     "base_uri": "https://localhost:8080/"
    },
    "id": "v_v7VfiArMRP",
    "outputId": "c8c30530-c119-4f6d-de7b-de0cbfe81d05"
   },
   "outputs": [
    {
     "name": "stdout",
     "output_type": "stream",
     "text": [
      "Total images: 1880\n",
      "Total labels: 1880\n"
     ]
    }
   ],
   "source": [
    "full_dataset_images = []\n",
    "full_dataset_labels = []\n",
    "\n",
    "datagen = ImageDataGenerator(\n",
    "    rotation_range=4,\n",
    "    width_shift_range=0.1,\n",
    "    height_shift_range=0.1,\n",
    "    shear_range=0.1,\n",
    "    zoom_range=0.1,\n",
    "    fill_mode='nearest'\n",
    ")\n",
    "\n",
    "extra_labels = {\n",
    "    3: 4,  5: 2,  6: 2,  7: 4,  9: 10, #d, f, g, h, j\n",
    "    10: 20, 13: 2, 15: 2, 16: 20, 17: 2, #k, n, p, q, r\n",
    "    18: 2, 20: 10, 21: 4, 22: 2, 24: 5, 25: 10 #s, u, v, w, y, z\n",
    "}\n",
    "\n",
    "DEFAULT_NUM = 1  # if not in extra labels\n",
    "\n",
    "for image_filename in image_filenames:\n",
    "    image_path = os.path.join(image_folder, image_filename)\n",
    "    image_array = np.array(Image.open(image_path))\n",
    "    image_array = np.expand_dims(image_array, axis=-1)\n",
    "    image_array = np.expand_dims(image_array, axis=0)\n",
    "\n",
    "    label = int(ord(image_filename[0]) - 65)  # A-Z to 0-25\n",
    "\n",
    "    num_to_generate = 4*extra_labels.get(label, DEFAULT_NUM)\n",
    "\n",
    "    datagen_iterator = datagen.flow(image_array, batch_size=1)\n",
    "\n",
    "    for _ in range(num_to_generate):\n",
    "        value = next(datagen_iterator)\n",
    "        img = value[0].astype('uint8')\n",
    "\n",
    "        full_dataset_images.append(img)\n",
    "        full_dataset_labels.append(label)\n",
    "\n",
    "print(f\"Total images: {len(full_dataset_images)}\")\n",
    "print(f\"Total labels: {len(full_dataset_labels)}\")\n"
   ]
  },
  {
   "cell_type": "code",
   "execution_count": 30,
   "metadata": {
    "colab": {
     "base_uri": "https://localhost:8080/",
     "height": 469
    },
    "id": "4vU9IETmvqaF",
    "outputId": "4756d054-9d21-4f58-8f8e-b7d4ba3b3731"
   },
   "outputs": [
    {
     "name": "stdout",
     "output_type": "stream",
     "text": [
      "Unique Labels in Full Set: 24\n"
     ]
    },
    {
     "data": {
      "image/png": "[encoded data removed]",
      "text/plain": [
       "<Figure size 640x480 with 1 Axes>"
      ]
     },
     "metadata": {},
     "output_type": "display_data"
    }
   ],
   "source": [
    "print(\"Unique Labels in Full Set:\", len(np.unique(full_dataset_labels)))\n",
    "\n",
    "counter = collections.Counter(full_dataset_labels)\n",
    "plt.bar(range(26), [counter[i] for i in range(26)])\n",
    "plt.xticks(range(26), [chr(i+65) for i in range(26)])\n",
    "plt.title(\"Number of images per letter\")\n",
    "plt.show()"
   ]
  },
  {
   "cell_type": "code",
   "execution_count": 31,
   "metadata": {
    "colab": {
     "base_uri": "https://localhost:8080/"
    },
    "id": "qOh-oG4_uC4q",
    "outputId": "55a70475-4179-41f7-b1c2-9d1baa0b097b"
   },
   "outputs": [
    {
     "name": "stdout",
     "output_type": "stream",
     "text": [
      "Training set: 1316 images\n",
      "Validation set: 282 images\n",
      "Test set: 282 images\n"
     ]
    }
   ],
   "source": [
    "num_samples = len(full_dataset_images)\n",
    "indices = np.arange(num_samples)\n",
    "np.random.shuffle(indices)\n",
    "\n",
    "shuffled_images = np.array(full_dataset_images)[indices]\n",
    "shuffled_labels = np.array(full_dataset_labels)[indices]\n",
    "\n",
    "# Define split percentages\n",
    "train_split = 0.7\n",
    "val_split = 0.15\n",
    "test_split = 0.15\n",
    "\n",
    "# Calculate split indices\n",
    "train_end = int(train_split * num_samples)\n",
    "val_end = train_end + int(val_split * num_samples)\n",
    "\n",
    "# Perform the splits\n",
    "train_images, train_labels = shuffled_images[:train_end], shuffled_labels[:train_end]\n",
    "val_images, val_labels = shuffled_images[train_end:val_end], shuffled_labels[train_end:val_end]\n",
    "test_images, test_labels = shuffled_images[val_end:], shuffled_labels[val_end:]\n",
    "\n",
    "# Free up memory\n",
    "del shuffled_images\n",
    "del shuffled_labels\n",
    "\n",
    "# Print stats\n",
    "print(f\"Training set: {len(train_images)} images\")\n",
    "print(f\"Validation set: {len(val_images)} images\")\n",
    "print(f\"Test set: {len(test_images)} images\")"
   ]
  },
  {
   "cell_type": "code",
   "execution_count": 32,
   "metadata": {
    "colab": {
     "base_uri": "https://localhost:8080/",
     "height": 470
    },
    "id": "BGq_NlSPuJF0",
    "outputId": "bb3f5987-4fac-4728-8264-196b8839fb25"
   },
   "outputs": [
    {
     "name": "stdout",
     "output_type": "stream",
     "text": [
      "13\n"
     ]
    },
    {
     "data": {
      "text/plain": [
       "<matplotlib.image.AxesImage at 0x7efc70c86400>"
      ]
     },
     "execution_count": 32,
     "metadata": {},
     "output_type": "execute_result"
    },
    {
     "data": {
      "image/png": "[encoded data removed]",
      "text/plain": [
       "<Figure size 640x480 with 1 Axes>"
      ]
     },
     "metadata": {},
     "output_type": "display_data"
    }
   ],
   "source": [
    "print(train_labels[100])\n",
    "plt.imshow(train_images[100].squeeze(), cmap='gray')"
   ]
  },
  {
   "cell_type": "code",
   "execution_count": 33,
   "metadata": {
    "colab": {
     "base_uri": "https://localhost:8080/"
    },
    "id": "ikewyxUeueyu",
    "outputId": "74db032e-02b7-4c77-8c42-a7dccf23525e"
   },
   "outputs": [
    {
     "name": "stdout",
     "output_type": "stream",
     "text": [
      "Image shape: (240, 200, 1)\n",
      "<class 'numpy.ndarray'>\n",
      "float32\n"
     ]
    }
   ],
   "source": [
    "train_images = train_images.astype(np.float32, copy=False) # convert\n",
    "train_images /= 255.0  # normalize\n",
    "\n",
    "val_images = val_images.astype(np.float32, copy=False)\n",
    "val_images /= 255.0\n",
    "\n",
    "test_images = test_images.astype(np.float32, copy=False)\n",
    "test_images /= 255.0\n",
    "\n",
    "print(\"Image shape:\", train_images[0].shape)\n",
    "print(type(train_images[0]))\n",
    "print(train_images[0].dtype)"
   ]
  },
  {
   "cell_type": "code",
   "execution_count": 34,
   "metadata": {
    "colab": {
     "base_uri": "https://localhost:8080/"
    },
    "id": "33chTlSrukCv",
    "outputId": "0d485330-e64b-4f29-bcf7-fe6a0d7078b8"
   },
   "outputs": [
    {
     "name": "stdout",
     "output_type": "stream",
     "text": [
      "Unique Labels in Training Set: 24\n",
      "Unique Labels in Validation Set: 24\n",
      "Unique Labels in Test Set: 24\n"
     ]
    }
   ],
   "source": [
    "print(\"Unique Labels in Training Set:\", len(np.unique(train_labels)))\n",
    "print(\"Unique Labels in Validation Set:\",len(np.unique(val_labels)))\n",
    "print(\"Unique Labels in Test Set:\",len(np.unique(test_labels)))"
   ]
  },
  {
   "cell_type": "code",
   "execution_count": 35,
   "metadata": {
    "colab": {
     "base_uri": "https://localhost:8080/"
    },
    "id": "ML6tgC-uw7Aa",
    "outputId": "f9fa1ca0-d771-47bc-c6d3-524918341119"
   },
   "outputs": [
    {
     "name": "stdout",
     "output_type": "stream",
     "text": [
      "Train Images and Labels Shape: (1316, 240, 200, 1) (1316, 26)\n",
      "Example One-Hot Encoded Label:\n",
      " [0. 0. 0. 0. 0. 0. 0. 0. 0. 0. 0. 1. 0. 0. 0. 0. 0. 0. 0. 0. 0. 0. 0. 0.\n",
      " 0. 0.]\n"
     ]
    }
   ],
   "source": [
    "from tensorflow.keras.utils import to_categorical\n",
    "\n",
    "num_classes = 26\n",
    "\n",
    "# convert integer labels to one-hot encoding\n",
    "train_labels = to_categorical(train_labels, num_classes=num_classes)\n",
    "val_labels = to_categorical(val_labels, num_classes=num_classes)\n",
    "test_labels = to_categorical(test_labels, num_classes=num_classes)\n",
    "\n",
    "print(\"Train Images and Labels Shape:\", train_images.shape, train_labels.shape)\n",
    "print(\"Example One-Hot Encoded Label:\\n\", train_labels[0])"
   ]
  },
  {
   "cell_type": "markdown",
   "metadata": {
    "id": "IglnJp8mt_0M"
   },
   "source": [
    "# CNN"
   ]
  },
  {
   "cell_type": "code",
   "execution_count": 68,
   "metadata": {
    "colab": {
     "base_uri": "https://localhost:8080/",
     "height": 460
    },
    "id": "N8xkFmnCssRR",
    "outputId": "cea4f7f6-911c-435e-9981-d9e44c697e7c"
   },
   "outputs": [],
   "source": [
    "# # define CNN model\n",
    "model = models.Sequential([\n",
    "    # Conv Block 1\n",
    "    layers.Input(shape=(240, 200, 1)),\n",
    "    layers.Conv2D(32, (3, 3), activation='relu'),\n",
    "    layers.BatchNormalization(),\n",
    "    layers.MaxPooling2D(pool_size=(2, 2)),\n",
    "\n",
    "    # Conv Block 2\n",
    "    layers.Conv2D(64, (3, 3), activation='relu'),\n",
    "    layers.BatchNormalization(),\n",
    "    layers.MaxPooling2D(pool_size=(2, 2)),\n",
    "\n",
    "    # Conv Block 3\n",
    "    layers.Conv2D(128, (3, 3), activation='relu'),\n",
    "    layers.BatchNormalization(),\n",
    "    layers.MaxPooling2D(pool_size=(2, 2)),\n",
    "\n",
    "    # Conv Block 4\n",
    "    layers.Conv2D(256, (3, 3), activation='relu'),\n",
    "    layers.BatchNormalization(),\n",
    "    layers.MaxPooling2D(pool_size=(2, 2)),\n",
    "    \n",
    "    # Fully Connected Layers\n",
    "    layers.GlobalAveragePooling2D(),\n",
    "    layers.Dense(256, activation='relu'),\n",
    "    layers.Dropout(0.5),# Reduces overfitting\n",
    "    layers.Dense(128, activation='relu'),  # Extra Dense layer\n",
    "    layers.Dropout(0.5),\n",
    "    layers.Dense(26, activation='softmax')# 26 classes (A-Z)\n",
    "])\n",
    "\n",
    "# compile model\n",
    "LEARNING_RATE = 1e-4\n",
    "model.compile(\n",
    "    loss='categorical_crossentropy',\n",
    "    optimizer = optimizers.Adam(learning_rate=LEARNING_RATE),\n",
    "    metrics=['accuracy']\n",
    ")"
   ]
  },
  {
   "cell_type": "code",
   "execution_count": 69,
   "metadata": {
    "colab": {
     "base_uri": "https://localhost:8080/"
    },
    "id": "TN9CnQ8UxqGn",
    "outputId": "769077d0-3289-44e8-df2b-d1ccd9d15f15"
   },
   "outputs": [
    {
     "name": "stdout",
     "output_type": "stream",
     "text": [
      "Epoch 1/160\n",
      "83/83 [==============================] - 2s 23ms/step - loss: 3.2259 - accuracy: 0.0919 - val_loss: 3.2723 - val_accuracy: 0.0496 - lr: 1.0000e-04\n",
      "Epoch 2/160\n",
      "83/83 [==============================] - 2s 20ms/step - loss: 2.8863 - accuracy: 0.1755 - val_loss: 3.3897 - val_accuracy: 0.0426 - lr: 1.0000e-04\n",
      "Epoch 3/160\n",
      "83/83 [==============================] - 2s 20ms/step - loss: 2.6439 - accuracy: 0.2508 - val_loss: 3.7497 - val_accuracy: 0.0426 - lr: 1.0000e-04\n",
      "Epoch 4/160\n",
      "83/83 [==============================] - 2s 20ms/step - loss: 2.4391 - accuracy: 0.2827 - val_loss: 4.1297 - val_accuracy: 0.0426 - lr: 1.0000e-04\n",
      "Epoch 5/160\n",
      "83/83 [==============================] - 2s 20ms/step - loss: 2.1909 - accuracy: 0.3723 - val_loss: 4.3700 - val_accuracy: 0.0426 - lr: 1.0000e-04\n",
      "Epoch 6/160\n",
      "83/83 [==============================] - 2s 20ms/step - loss: 1.9825 - accuracy: 0.4043 - val_loss: 4.3087 - val_accuracy: 0.0426 - lr: 1.0000e-04\n",
      "Epoch 7/160\n",
      "83/83 [==============================] - 2s 20ms/step - loss: 1.8203 - accuracy: 0.4445 - val_loss: 3.5867 - val_accuracy: 0.0496 - lr: 1.0000e-04\n",
      "Epoch 8/160\n",
      "83/83 [==============================] - 2s 20ms/step - loss: 1.7110 - accuracy: 0.4878 - val_loss: 2.8111 - val_accuracy: 0.1950 - lr: 1.0000e-04\n",
      "Epoch 9/160\n",
      "83/83 [==============================] - 2s 20ms/step - loss: 1.5257 - accuracy: 0.5319 - val_loss: 1.5522 - val_accuracy: 0.5355 - lr: 1.0000e-04\n",
      "Epoch 10/160\n",
      "83/83 [==============================] - 2s 20ms/step - loss: 1.3993 - accuracy: 0.5737 - val_loss: 1.3392 - val_accuracy: 0.5319 - lr: 1.0000e-04\n",
      "Epoch 11/160\n",
      "83/83 [==============================] - 2s 20ms/step - loss: 1.3012 - accuracy: 0.5821 - val_loss: 1.0724 - val_accuracy: 0.7624 - lr: 1.0000e-04\n",
      "Epoch 12/160\n",
      "83/83 [==============================] - 2s 20ms/step - loss: 1.2157 - accuracy: 0.6254 - val_loss: 0.9102 - val_accuracy: 0.8369 - lr: 1.0000e-04\n",
      "Epoch 13/160\n",
      "83/83 [==============================] - 2s 20ms/step - loss: 1.1418 - accuracy: 0.6353 - val_loss: 0.7898 - val_accuracy: 0.8617 - lr: 1.0000e-04\n",
      "Epoch 14/160\n",
      "83/83 [==============================] - 2s 20ms/step - loss: 1.0336 - accuracy: 0.6664 - val_loss: 0.8828 - val_accuracy: 0.7695 - lr: 1.0000e-04\n",
      "Epoch 15/160\n",
      "83/83 [==============================] - 2s 20ms/step - loss: 0.9664 - accuracy: 0.6998 - val_loss: 0.7774 - val_accuracy: 0.8440 - lr: 1.0000e-04\n",
      "Epoch 16/160\n",
      "83/83 [==============================] - 2s 20ms/step - loss: 0.9298 - accuracy: 0.7158 - val_loss: 0.6526 - val_accuracy: 0.8723 - lr: 1.0000e-04\n",
      "Epoch 17/160\n",
      "83/83 [==============================] - 2s 20ms/step - loss: 0.8411 - accuracy: 0.7416 - val_loss: 0.6430 - val_accuracy: 0.8794 - lr: 1.0000e-04\n",
      "Epoch 18/160\n",
      "83/83 [==============================] - 2s 20ms/step - loss: 0.7537 - accuracy: 0.7736 - val_loss: 0.5737 - val_accuracy: 0.8794 - lr: 1.0000e-04\n",
      "Epoch 19/160\n",
      "83/83 [==============================] - 2s 20ms/step - loss: 0.7159 - accuracy: 0.7819 - val_loss: 0.4496 - val_accuracy: 0.9291 - lr: 1.0000e-04\n",
      "Epoch 20/160\n",
      "83/83 [==============================] - 2s 20ms/step - loss: 0.6908 - accuracy: 0.7865 - val_loss: 0.6098 - val_accuracy: 0.7979 - lr: 1.0000e-04\n",
      "Epoch 21/160\n",
      "83/83 [==============================] - 2s 20ms/step - loss: 0.6428 - accuracy: 0.8017 - val_loss: 0.4108 - val_accuracy: 0.9078 - lr: 1.0000e-04\n",
      "Epoch 22/160\n",
      "83/83 [==============================] - 2s 20ms/step - loss: 0.5724 - accuracy: 0.8419 - val_loss: 0.3982 - val_accuracy: 0.9326 - lr: 1.0000e-04\n",
      "Epoch 23/160\n",
      "83/83 [==============================] - 2s 20ms/step - loss: 0.5616 - accuracy: 0.8374 - val_loss: 0.4481 - val_accuracy: 0.8865 - lr: 1.0000e-04\n",
      "Epoch 24/160\n",
      "83/83 [==============================] - 2s 20ms/step - loss: 0.5215 - accuracy: 0.8602 - val_loss: 0.8772 - val_accuracy: 0.7660 - lr: 1.0000e-04\n",
      "Epoch 25/160\n",
      "83/83 [==============================] - 2s 20ms/step - loss: 0.4846 - accuracy: 0.8708 - val_loss: 0.4011 - val_accuracy: 0.8865 - lr: 1.0000e-04\n",
      "Epoch 26/160\n",
      "83/83 [==============================] - 2s 20ms/step - loss: 0.4668 - accuracy: 0.8685 - val_loss: 0.3183 - val_accuracy: 0.9149 - lr: 1.0000e-04\n",
      "Epoch 27/160\n",
      "83/83 [==============================] - 2s 20ms/step - loss: 0.4234 - accuracy: 0.8853 - val_loss: 0.2761 - val_accuracy: 0.9504 - lr: 1.0000e-04\n",
      "Epoch 28/160\n",
      "83/83 [==============================] - 2s 20ms/step - loss: 0.3988 - accuracy: 0.8875 - val_loss: 1.3280 - val_accuracy: 0.5780 - lr: 1.0000e-04\n",
      "Epoch 29/160\n",
      "83/83 [==============================] - 2s 20ms/step - loss: 0.3634 - accuracy: 0.8951 - val_loss: 0.2877 - val_accuracy: 0.9220 - lr: 1.0000e-04\n",
      "Epoch 30/160\n",
      "83/83 [==============================] - 2s 20ms/step - loss: 0.3508 - accuracy: 0.9050 - val_loss: 0.1782 - val_accuracy: 0.9929 - lr: 1.0000e-04\n",
      "Epoch 31/160\n",
      "83/83 [==============================] - 2s 20ms/step - loss: 0.3284 - accuracy: 0.9141 - val_loss: 0.2818 - val_accuracy: 0.9255 - lr: 1.0000e-04\n",
      "Epoch 32/160\n",
      "83/83 [==============================] - 2s 21ms/step - loss: 0.3459 - accuracy: 0.9065 - val_loss: 0.1409 - val_accuracy: 0.9894 - lr: 1.0000e-04\n",
      "Epoch 33/160\n",
      "83/83 [==============================] - 2s 20ms/step - loss: 0.2860 - accuracy: 0.9309 - val_loss: 0.1414 - val_accuracy: 0.9681 - lr: 1.0000e-04\n",
      "Epoch 34/160\n",
      "83/83 [==============================] - 2s 20ms/step - loss: 0.2760 - accuracy: 0.9369 - val_loss: 0.1465 - val_accuracy: 0.9716 - lr: 1.0000e-04\n",
      "Epoch 35/160\n",
      "83/83 [==============================] - 2s 20ms/step - loss: 0.2571 - accuracy: 0.9430 - val_loss: 0.4851 - val_accuracy: 0.8298 - lr: 1.0000e-04\n",
      "Epoch 36/160\n",
      "83/83 [==============================] - 2s 20ms/step - loss: 0.2492 - accuracy: 0.9400 - val_loss: 0.1012 - val_accuracy: 0.9965 - lr: 1.0000e-04\n",
      "Epoch 37/160\n",
      "83/83 [==============================] - 2s 20ms/step - loss: 0.2245 - accuracy: 0.9453 - val_loss: 0.1293 - val_accuracy: 0.9610 - lr: 1.0000e-04\n",
      "Epoch 38/160\n",
      "83/83 [==============================] - 2s 20ms/step - loss: 0.2018 - accuracy: 0.9605 - val_loss: 0.0972 - val_accuracy: 0.9965 - lr: 1.0000e-04\n",
      "Epoch 39/160\n",
      "83/83 [==============================] - 2s 20ms/step - loss: 0.1905 - accuracy: 0.9605 - val_loss: 0.2821 - val_accuracy: 0.9007 - lr: 1.0000e-04\n",
      "Epoch 40/160\n",
      "83/83 [==============================] - 2s 20ms/step - loss: 0.2053 - accuracy: 0.9567 - val_loss: 0.1608 - val_accuracy: 0.9504 - lr: 1.0000e-04\n",
      "Epoch 41/160\n",
      "83/83 [==============================] - 2s 20ms/step - loss: 0.1843 - accuracy: 0.9590 - val_loss: 0.0493 - val_accuracy: 1.0000 - lr: 1.0000e-04\n",
      "Epoch 42/160\n",
      "83/83 [==============================] - 2s 20ms/step - loss: 0.1636 - accuracy: 0.9612 - val_loss: 0.0718 - val_accuracy: 0.9894 - lr: 1.0000e-04\n",
      "Epoch 43/160\n",
      "83/83 [==============================] - 2s 21ms/step - loss: 0.1531 - accuracy: 0.9650 - val_loss: 0.0492 - val_accuracy: 0.9965 - lr: 1.0000e-04\n",
      "Epoch 44/160\n",
      "83/83 [==============================] - 2s 20ms/step - loss: 0.1479 - accuracy: 0.9704 - val_loss: 0.0603 - val_accuracy: 0.9894 - lr: 1.0000e-04\n",
      "Epoch 45/160\n",
      "83/83 [==============================] - 2s 20ms/step - loss: 0.1459 - accuracy: 0.9696 - val_loss: 0.0496 - val_accuracy: 1.0000 - lr: 1.0000e-04\n",
      "Epoch 46/160\n",
      "83/83 [==============================] - 2s 20ms/step - loss: 0.1343 - accuracy: 0.9696 - val_loss: 0.0656 - val_accuracy: 0.9965 - lr: 1.0000e-04\n",
      "Epoch 47/160\n",
      "83/83 [==============================] - 2s 20ms/step - loss: 0.1685 - accuracy: 0.9628 - val_loss: 0.0739 - val_accuracy: 0.9894 - lr: 1.0000e-04\n",
      "Epoch 48/160\n",
      "83/83 [==============================] - 2s 20ms/step - loss: 0.1543 - accuracy: 0.9650 - val_loss: 0.0406 - val_accuracy: 1.0000 - lr: 1.0000e-04\n",
      "Epoch 49/160\n",
      "83/83 [==============================] - 2s 20ms/step - loss: 0.1330 - accuracy: 0.9734 - val_loss: 0.4438 - val_accuracy: 0.8440 - lr: 1.0000e-04\n",
      "Epoch 50/160\n",
      "83/83 [==============================] - 2s 20ms/step - loss: 0.1100 - accuracy: 0.9726 - val_loss: 0.0601 - val_accuracy: 1.0000 - lr: 1.0000e-04\n",
      "Epoch 51/160\n",
      "83/83 [==============================] - 2s 20ms/step - loss: 0.1299 - accuracy: 0.9688 - val_loss: 0.0433 - val_accuracy: 0.9929 - lr: 1.0000e-04\n",
      "Epoch 52/160\n",
      "83/83 [==============================] - 2s 20ms/step - loss: 0.1205 - accuracy: 0.9666 - val_loss: 0.0472 - val_accuracy: 0.9894 - lr: 1.0000e-04\n",
      "Epoch 53/160\n",
      "83/83 [==============================] - 2s 20ms/step - loss: 0.1180 - accuracy: 0.9764 - val_loss: 0.0718 - val_accuracy: 0.9752 - lr: 1.0000e-04\n",
      "Epoch 54/160\n",
      "83/83 [==============================] - 2s 20ms/step - loss: 0.1101 - accuracy: 0.9726 - val_loss: 0.0558 - val_accuracy: 0.9858 - lr: 1.0000e-04\n",
      "Epoch 55/160\n",
      "83/83 [==============================] - 2s 20ms/step - loss: 0.0895 - accuracy: 0.9825 - val_loss: 0.0103 - val_accuracy: 1.0000 - lr: 1.0000e-04\n",
      "Epoch 56/160\n",
      "83/83 [==============================] - 2s 20ms/step - loss: 0.0943 - accuracy: 0.9825 - val_loss: 0.0303 - val_accuracy: 0.9965 - lr: 1.0000e-04\n",
      "Epoch 57/160\n",
      "83/83 [==============================] - 2s 20ms/step - loss: 0.0793 - accuracy: 0.9802 - val_loss: 0.0674 - val_accuracy: 0.9858 - lr: 1.0000e-04\n",
      "Epoch 58/160\n",
      "83/83 [==============================] - 2s 20ms/step - loss: 0.0768 - accuracy: 0.9856 - val_loss: 0.0455 - val_accuracy: 0.9858 - lr: 1.0000e-04\n",
      "Epoch 59/160\n",
      "83/83 [==============================] - 2s 20ms/step - loss: 0.0855 - accuracy: 0.9825 - val_loss: 0.0206 - val_accuracy: 1.0000 - lr: 1.0000e-04\n",
      "Epoch 60/160\n",
      "83/83 [==============================] - 2s 20ms/step - loss: 0.0845 - accuracy: 0.9833 - val_loss: 0.0256 - val_accuracy: 0.9965 - lr: 1.0000e-04\n",
      "Epoch 61/160\n",
      "83/83 [==============================] - 2s 20ms/step - loss: 0.0800 - accuracy: 0.9764 - val_loss: 0.0465 - val_accuracy: 0.9823 - lr: 1.0000e-04\n",
      "Epoch 62/160\n",
      "82/83 [============================>.] - ETA: 0s - loss: 0.0732 - accuracy: 0.9848\n",
      "Epoch 62: ReduceLROnPlateau reducing learning rate to 4.999999873689376e-05.\n",
      "83/83 [==============================] - 2s 20ms/step - loss: 0.0732 - accuracy: 0.9848 - val_loss: 0.0421 - val_accuracy: 0.9894 - lr: 1.0000e-04\n",
      "Epoch 63/160\n",
      "83/83 [==============================] - 2s 20ms/step - loss: 0.0607 - accuracy: 0.9894 - val_loss: 0.0130 - val_accuracy: 1.0000 - lr: 5.0000e-05\n",
      "Epoch 64/160\n",
      "83/83 [==============================] - 2s 20ms/step - loss: 0.0576 - accuracy: 0.9932 - val_loss: 0.0068 - val_accuracy: 1.0000 - lr: 5.0000e-05\n",
      "Epoch 65/160\n",
      "83/83 [==============================] - 2s 20ms/step - loss: 0.0569 - accuracy: 0.9894 - val_loss: 0.0172 - val_accuracy: 1.0000 - lr: 5.0000e-05\n",
      "Epoch 66/160\n",
      "83/83 [==============================] - 2s 20ms/step - loss: 0.0635 - accuracy: 0.9848 - val_loss: 0.0199 - val_accuracy: 1.0000 - lr: 5.0000e-05\n",
      "Epoch 67/160\n",
      "83/83 [==============================] - 2s 21ms/step - loss: 0.0627 - accuracy: 0.9871 - val_loss: 0.0065 - val_accuracy: 1.0000 - lr: 5.0000e-05\n",
      "Epoch 68/160\n",
      "83/83 [==============================] - 2s 20ms/step - loss: 0.0491 - accuracy: 0.9924 - val_loss: 0.3988 - val_accuracy: 0.8936 - lr: 5.0000e-05\n",
      "Epoch 69/160\n",
      "83/83 [==============================] - 2s 20ms/step - loss: 0.0529 - accuracy: 0.9932 - val_loss: 0.0207 - val_accuracy: 1.0000 - lr: 5.0000e-05\n",
      "Epoch 70/160\n",
      "83/83 [==============================] - 2s 20ms/step - loss: 0.0562 - accuracy: 0.9916 - val_loss: 0.0113 - val_accuracy: 1.0000 - lr: 5.0000e-05\n",
      "Epoch 71/160\n",
      "83/83 [==============================] - 2s 20ms/step - loss: 0.0533 - accuracy: 0.9924 - val_loss: 0.0139 - val_accuracy: 0.9965 - lr: 5.0000e-05\n",
      "Epoch 72/160\n",
      "83/83 [==============================] - 2s 20ms/step - loss: 0.0479 - accuracy: 0.9909 - val_loss: 0.0086 - val_accuracy: 1.0000 - lr: 5.0000e-05\n",
      "Epoch 73/160\n",
      "83/83 [==============================] - 2s 20ms/step - loss: 0.0517 - accuracy: 0.9909 - val_loss: 0.0088 - val_accuracy: 1.0000 - lr: 5.0000e-05\n",
      "Epoch 74/160\n",
      "83/83 [==============================] - 2s 21ms/step - loss: 0.0456 - accuracy: 0.9924 - val_loss: 0.0034 - val_accuracy: 1.0000 - lr: 5.0000e-05\n",
      "Epoch 75/160\n",
      "83/83 [==============================] - 2s 20ms/step - loss: 0.0521 - accuracy: 0.9901 - val_loss: 0.0110 - val_accuracy: 1.0000 - lr: 5.0000e-05\n",
      "Epoch 76/160\n",
      "83/83 [==============================] - 2s 20ms/step - loss: 0.0548 - accuracy: 0.9886 - val_loss: 0.0102 - val_accuracy: 1.0000 - lr: 5.0000e-05\n",
      "Epoch 77/160\n",
      "83/83 [==============================] - 2s 20ms/step - loss: 0.0529 - accuracy: 0.9856 - val_loss: 0.0101 - val_accuracy: 1.0000 - lr: 5.0000e-05\n",
      "Epoch 78/160\n",
      "83/83 [==============================] - 2s 20ms/step - loss: 0.0524 - accuracy: 0.9894 - val_loss: 1.1274 - val_accuracy: 0.7624 - lr: 5.0000e-05\n",
      "Epoch 79/160\n",
      "83/83 [==============================] - 2s 20ms/step - loss: 0.0414 - accuracy: 0.9932 - val_loss: 0.0093 - val_accuracy: 1.0000 - lr: 5.0000e-05\n",
      "Epoch 80/160\n",
      "83/83 [==============================] - 2s 20ms/step - loss: 0.0469 - accuracy: 0.9878 - val_loss: 0.0073 - val_accuracy: 0.9965 - lr: 5.0000e-05\n",
      "Epoch 81/160\n",
      "82/83 [============================>.] - ETA: 0s - loss: 0.0464 - accuracy: 0.9924\n",
      "Epoch 81: ReduceLROnPlateau reducing learning rate to 2.499999936844688e-05.\n",
      "83/83 [==============================] - 2s 20ms/step - loss: 0.0464 - accuracy: 0.9924 - val_loss: 0.0168 - val_accuracy: 1.0000 - lr: 5.0000e-05\n",
      "Epoch 82/160\n",
      "83/83 [==============================] - 2s 20ms/step - loss: 0.0484 - accuracy: 0.9909 - val_loss: 0.0054 - val_accuracy: 1.0000 - lr: 2.5000e-05\n",
      "Epoch 83/160\n",
      "83/83 [==============================] - 2s 20ms/step - loss: 0.0380 - accuracy: 0.9932 - val_loss: 0.0029 - val_accuracy: 1.0000 - lr: 2.5000e-05\n",
      "Epoch 84/160\n",
      "83/83 [==============================] - 2s 20ms/step - loss: 0.0429 - accuracy: 0.9932 - val_loss: 0.0051 - val_accuracy: 1.0000 - lr: 2.5000e-05\n",
      "Epoch 85/160\n",
      "83/83 [==============================] - 2s 20ms/step - loss: 0.0372 - accuracy: 0.9924 - val_loss: 0.0914 - val_accuracy: 0.9539 - lr: 2.5000e-05\n",
      "Epoch 86/160\n",
      "83/83 [==============================] - 2s 20ms/step - loss: 0.0369 - accuracy: 0.9954 - val_loss: 0.0125 - val_accuracy: 0.9965 - lr: 2.5000e-05\n",
      "Epoch 87/160\n",
      "83/83 [==============================] - 2s 20ms/step - loss: 0.0423 - accuracy: 0.9924 - val_loss: 0.0039 - val_accuracy: 1.0000 - lr: 2.5000e-05\n",
      "Epoch 88/160\n",
      "83/83 [==============================] - 2s 20ms/step - loss: 0.0401 - accuracy: 0.9947 - val_loss: 0.0033 - val_accuracy: 1.0000 - lr: 2.5000e-05\n",
      "Epoch 89/160\n",
      "83/83 [==============================] - 2s 20ms/step - loss: 0.0440 - accuracy: 0.9901 - val_loss: 0.0038 - val_accuracy: 1.0000 - lr: 2.5000e-05\n",
      "Epoch 90/160\n",
      "82/83 [============================>.] - ETA: 0s - loss: 0.0342 - accuracy: 0.9970\n",
      "Epoch 90: ReduceLROnPlateau reducing learning rate to 1.249999968422344e-05.\n",
      "83/83 [==============================] - 2s 20ms/step - loss: 0.0341 - accuracy: 0.9970 - val_loss: 0.0043 - val_accuracy: 1.0000 - lr: 2.5000e-05\n",
      "Epoch 91/160\n",
      "83/83 [==============================] - 2s 21ms/step - loss: 0.0465 - accuracy: 0.9901 - val_loss: 0.0021 - val_accuracy: 1.0000 - lr: 1.2500e-05\n",
      "Epoch 92/160\n",
      "83/83 [==============================] - 2s 20ms/step - loss: 0.0323 - accuracy: 0.9962 - val_loss: 0.0026 - val_accuracy: 1.0000 - lr: 1.2500e-05\n",
      "Epoch 93/160\n",
      "83/83 [==============================] - 2s 20ms/step - loss: 0.0338 - accuracy: 0.9932 - val_loss: 0.0021 - val_accuracy: 1.0000 - lr: 1.2500e-05\n",
      "Epoch 94/160\n",
      "83/83 [==============================] - 2s 20ms/step - loss: 0.0284 - accuracy: 0.9970 - val_loss: 0.0021 - val_accuracy: 1.0000 - lr: 1.2500e-05\n",
      "Epoch 95/160\n",
      "83/83 [==============================] - 2s 21ms/step - loss: 0.0359 - accuracy: 0.9947 - val_loss: 0.0019 - val_accuracy: 1.0000 - lr: 1.2500e-05\n",
      "Epoch 96/160\n",
      "83/83 [==============================] - 2s 20ms/step - loss: 0.0338 - accuracy: 0.9924 - val_loss: 0.0020 - val_accuracy: 1.0000 - lr: 1.2500e-05\n",
      "Epoch 97/160\n",
      "83/83 [==============================] - 2s 20ms/step - loss: 0.0383 - accuracy: 0.9932 - val_loss: 0.0018 - val_accuracy: 1.0000 - lr: 1.2500e-05\n",
      "Epoch 98/160\n",
      "83/83 [==============================] - 2s 20ms/step - loss: 0.0360 - accuracy: 0.9916 - val_loss: 0.0032 - val_accuracy: 1.0000 - lr: 1.2500e-05\n",
      "Epoch 99/160\n",
      "83/83 [==============================] - 2s 20ms/step - loss: 0.0296 - accuracy: 0.9954 - val_loss: 0.0021 - val_accuracy: 1.0000 - lr: 1.2500e-05\n",
      "Epoch 100/160\n",
      "83/83 [==============================] - 2s 20ms/step - loss: 0.0338 - accuracy: 0.9947 - val_loss: 0.0022 - val_accuracy: 1.0000 - lr: 1.2500e-05\n",
      "Epoch 101/160\n",
      "83/83 [==============================] - 2s 20ms/step - loss: 0.0327 - accuracy: 0.9932 - val_loss: 0.0025 - val_accuracy: 1.0000 - lr: 1.2500e-05\n",
      "Epoch 102/160\n",
      "83/83 [==============================] - 2s 20ms/step - loss: 0.0340 - accuracy: 0.9954 - val_loss: 0.0027 - val_accuracy: 1.0000 - lr: 1.2500e-05\n",
      "Epoch 103/160\n",
      "83/83 [==============================] - 2s 21ms/step - loss: 0.0285 - accuracy: 0.9962 - val_loss: 0.0017 - val_accuracy: 1.0000 - lr: 1.2500e-05\n",
      "Epoch 104/160\n",
      "82/83 [============================>.] - ETA: 0s - loss: 0.0323 - accuracy: 0.9947\n",
      "Epoch 104: ReduceLROnPlateau reducing learning rate to 6.24999984211172e-06.\n",
      "83/83 [==============================] - 2s 20ms/step - loss: 0.0323 - accuracy: 0.9947 - val_loss: 0.0022 - val_accuracy: 1.0000 - lr: 1.2500e-05\n",
      "Epoch 105/160\n",
      "83/83 [==============================] - 2s 20ms/step - loss: 0.0356 - accuracy: 0.9932 - val_loss: 0.0018 - val_accuracy: 1.0000 - lr: 6.2500e-06\n",
      "Epoch 106/160\n",
      "83/83 [==============================] - 2s 20ms/step - loss: 0.0303 - accuracy: 0.9947 - val_loss: 0.0015 - val_accuracy: 1.0000 - lr: 6.2500e-06\n",
      "Epoch 107/160\n",
      "83/83 [==============================] - 2s 20ms/step - loss: 0.0242 - accuracy: 0.9962 - val_loss: 0.0018 - val_accuracy: 1.0000 - lr: 6.2500e-06\n",
      "Epoch 108/160\n",
      "83/83 [==============================] - 2s 20ms/step - loss: 0.0300 - accuracy: 0.9954 - val_loss: 0.0018 - val_accuracy: 1.0000 - lr: 6.2500e-06\n",
      "Epoch 109/160\n",
      "83/83 [==============================] - 2s 20ms/step - loss: 0.0193 - accuracy: 0.9985 - val_loss: 0.0020 - val_accuracy: 1.0000 - lr: 6.2500e-06\n",
      "Epoch 110/160\n",
      "83/83 [==============================] - 2s 20ms/step - loss: 0.0313 - accuracy: 0.9939 - val_loss: 0.0023 - val_accuracy: 1.0000 - lr: 6.2500e-06\n",
      "Epoch 111/160\n",
      "83/83 [==============================] - 2s 20ms/step - loss: 0.0344 - accuracy: 0.9939 - val_loss: 0.0024 - val_accuracy: 1.0000 - lr: 6.2500e-06\n",
      "Epoch 112/160\n",
      "83/83 [==============================] - 2s 20ms/step - loss: 0.0286 - accuracy: 0.9962 - val_loss: 0.0026 - val_accuracy: 1.0000 - lr: 6.2500e-06\n",
      "Epoch 113/160\n",
      "82/83 [============================>.] - ETA: 0s - loss: 0.0385 - accuracy: 0.9901\n",
      "Epoch 113: ReduceLROnPlateau reducing learning rate to 3.12499992105586e-06.\n",
      "83/83 [==============================] - 2s 20ms/step - loss: 0.0385 - accuracy: 0.9901 - val_loss: 0.0019 - val_accuracy: 1.0000 - lr: 6.2500e-06\n",
      "Epoch 114/160\n",
      "83/83 [==============================] - 2s 20ms/step - loss: 0.0283 - accuracy: 0.9970 - val_loss: 0.0022 - val_accuracy: 1.0000 - lr: 3.1250e-06\n",
      "Epoch 115/160\n",
      "83/83 [==============================] - 2s 20ms/step - loss: 0.0282 - accuracy: 0.9954 - val_loss: 0.0023 - val_accuracy: 1.0000 - lr: 3.1250e-06\n",
      "Epoch 116/160\n",
      "83/83 [==============================] - 2s 20ms/step - loss: 0.0333 - accuracy: 0.9894 - val_loss: 0.0022 - val_accuracy: 1.0000 - lr: 3.1250e-06\n",
      "Epoch 117/160\n",
      "83/83 [==============================] - 2s 20ms/step - loss: 0.0235 - accuracy: 0.9977 - val_loss: 0.0020 - val_accuracy: 1.0000 - lr: 3.1250e-06\n",
      "Epoch 118/160\n",
      "83/83 [==============================] - 2s 20ms/step - loss: 0.0334 - accuracy: 0.9947 - val_loss: 0.0019 - val_accuracy: 1.0000 - lr: 3.1250e-06\n",
      "Epoch 119/160\n",
      "83/83 [==============================] - 2s 20ms/step - loss: 0.0262 - accuracy: 0.9954 - val_loss: 0.0026 - val_accuracy: 1.0000 - lr: 3.1250e-06\n",
      "Epoch 120/160\n",
      "82/83 [============================>.] - ETA: 0s - loss: 0.0309 - accuracy: 0.9954\n",
      "Epoch 120: ReduceLROnPlateau reducing learning rate to 1.56249996052793e-06.\n",
      "83/83 [==============================] - 2s 20ms/step - loss: 0.0308 - accuracy: 0.9954 - val_loss: 0.0021 - val_accuracy: 1.0000 - lr: 3.1250e-06\n",
      "Epoch 121/160\n",
      "83/83 [==============================] - 2s 20ms/step - loss: 0.0300 - accuracy: 0.9939 - val_loss: 0.0021 - val_accuracy: 1.0000 - lr: 1.5625e-06\n",
      "Epoch 122/160\n",
      "83/83 [==============================] - 2s 20ms/step - loss: 0.0291 - accuracy: 0.9939 - val_loss: 0.0020 - val_accuracy: 1.0000 - lr: 1.5625e-06\n",
      "Epoch 123/160\n",
      "83/83 [==============================] - 2s 20ms/step - loss: 0.0288 - accuracy: 0.9947 - val_loss: 0.0022 - val_accuracy: 1.0000 - lr: 1.5625e-06\n",
      "Epoch 124/160\n",
      "83/83 [==============================] - 2s 20ms/step - loss: 0.0327 - accuracy: 0.9932 - val_loss: 0.0020 - val_accuracy: 1.0000 - lr: 1.5625e-06\n",
      "Epoch 125/160\n",
      "83/83 [==============================] - 2s 20ms/step - loss: 0.0200 - accuracy: 0.9977 - val_loss: 0.0021 - val_accuracy: 1.0000 - lr: 1.5625e-06\n",
      "Epoch 126/160\n",
      "83/83 [==============================] - 2s 20ms/step - loss: 0.0289 - accuracy: 0.9947 - val_loss: 0.0021 - val_accuracy: 1.0000 - lr: 1.5625e-06\n",
      "Epoch 127/160\n",
      "82/83 [============================>.] - ETA: 0s - loss: 0.0313 - accuracy: 0.9954\n",
      "Epoch 127: ReduceLROnPlateau reducing learning rate to 7.81249980263965e-07.\n",
      "83/83 [==============================] - 2s 20ms/step - loss: 0.0312 - accuracy: 0.9954 - val_loss: 0.0025 - val_accuracy: 1.0000 - lr: 1.5625e-06\n",
      "Epoch 128/160\n",
      "83/83 [==============================] - 2s 20ms/step - loss: 0.0326 - accuracy: 0.9932 - val_loss: 0.0025 - val_accuracy: 1.0000 - lr: 7.8125e-07\n",
      "Epoch 129/160\n",
      "83/83 [==============================] - 2s 20ms/step - loss: 0.0293 - accuracy: 0.9962 - val_loss: 0.0023 - val_accuracy: 1.0000 - lr: 7.8125e-07\n",
      "Epoch 130/160\n",
      "83/83 [==============================] - 2s 20ms/step - loss: 0.0316 - accuracy: 0.9947 - val_loss: 0.0019 - val_accuracy: 1.0000 - lr: 7.8125e-07\n",
      "Epoch 131/160\n",
      "83/83 [==============================] - 2s 20ms/step - loss: 0.0282 - accuracy: 0.9954 - val_loss: 0.0019 - val_accuracy: 1.0000 - lr: 7.8125e-07\n",
      "Epoch 132/160\n",
      "83/83 [==============================] - 2s 20ms/step - loss: 0.0296 - accuracy: 0.9954 - val_loss: 0.0020 - val_accuracy: 1.0000 - lr: 7.8125e-07\n",
      "Epoch 133/160\n",
      "83/83 [==============================] - 2s 20ms/step - loss: 0.0272 - accuracy: 0.9947 - val_loss: 0.0020 - val_accuracy: 1.0000 - lr: 7.8125e-07\n",
      "Epoch 134/160\n",
      "82/83 [============================>.] - ETA: 0s - loss: 0.0259 - accuracy: 0.9962\n",
      "Epoch 134: ReduceLROnPlateau reducing learning rate to 3.906249901319825e-07.\n",
      "83/83 [==============================] - 2s 20ms/step - loss: 0.0260 - accuracy: 0.9962 - val_loss: 0.0020 - val_accuracy: 1.0000 - lr: 7.8125e-07\n",
      "Epoch 135/160\n",
      "83/83 [==============================] - 2s 20ms/step - loss: 0.0348 - accuracy: 0.9909 - val_loss: 0.0019 - val_accuracy: 1.0000 - lr: 3.9062e-07\n",
      "Epoch 136/160\n",
      "83/83 [==============================] - 2s 20ms/step - loss: 0.0364 - accuracy: 0.9909 - val_loss: 0.0021 - val_accuracy: 1.0000 - lr: 3.9062e-07\n",
      "Epoch 137/160\n",
      "83/83 [==============================] - 2s 20ms/step - loss: 0.0291 - accuracy: 0.9947 - val_loss: 0.0021 - val_accuracy: 1.0000 - lr: 3.9062e-07\n",
      "Epoch 138/160\n",
      "83/83 [==============================] - 2s 20ms/step - loss: 0.0288 - accuracy: 0.9947 - val_loss: 0.0021 - val_accuracy: 1.0000 - lr: 3.9062e-07\n",
      "Epoch 139/160\n",
      "83/83 [==============================] - 2s 20ms/step - loss: 0.0324 - accuracy: 0.9947 - val_loss: 0.0020 - val_accuracy: 1.0000 - lr: 3.9062e-07\n",
      "Epoch 140/160\n",
      "83/83 [==============================] - 2s 20ms/step - loss: 0.0281 - accuracy: 0.9954 - val_loss: 0.0020 - val_accuracy: 1.0000 - lr: 3.9062e-07\n",
      "Epoch 141/160\n",
      "82/83 [============================>.] - ETA: 0s - loss: 0.0455 - accuracy: 0.9848\n",
      "Epoch 141: ReduceLROnPlateau reducing learning rate to 1.9531249506599124e-07.\n",
      "83/83 [==============================] - 2s 20ms/step - loss: 0.0458 - accuracy: 0.9848 - val_loss: 0.0021 - val_accuracy: 1.0000 - lr: 3.9062e-07\n",
      "Epoch 142/160\n",
      "83/83 [==============================] - 2s 20ms/step - loss: 0.0446 - accuracy: 0.9901 - val_loss: 0.0021 - val_accuracy: 1.0000 - lr: 1.9531e-07\n",
      "Epoch 143/160\n",
      "83/83 [==============================] - 2s 20ms/step - loss: 0.0273 - accuracy: 0.9954 - val_loss: 0.0021 - val_accuracy: 1.0000 - lr: 1.9531e-07\n",
      "Epoch 144/160\n",
      "83/83 [==============================] - 2s 20ms/step - loss: 0.0291 - accuracy: 0.9970 - val_loss: 0.0020 - val_accuracy: 1.0000 - lr: 1.9531e-07\n",
      "Epoch 145/160\n",
      "83/83 [==============================] - 2s 20ms/step - loss: 0.0238 - accuracy: 0.9962 - val_loss: 0.0020 - val_accuracy: 1.0000 - lr: 1.9531e-07\n",
      "Epoch 146/160\n",
      "83/83 [==============================] - 2s 20ms/step - loss: 0.0327 - accuracy: 0.9954 - val_loss: 0.0020 - val_accuracy: 1.0000 - lr: 1.9531e-07\n",
      "Epoch 147/160\n",
      "83/83 [==============================] - 2s 20ms/step - loss: 0.0303 - accuracy: 0.9932 - val_loss: 0.0019 - val_accuracy: 1.0000 - lr: 1.9531e-07\n",
      "Epoch 148/160\n",
      "82/83 [============================>.] - ETA: 0s - loss: 0.0309 - accuracy: 0.9947\n",
      "Epoch 148: ReduceLROnPlateau reducing learning rate to 9.765624753299562e-08.\n",
      "83/83 [==============================] - 2s 20ms/step - loss: 0.0308 - accuracy: 0.9947 - val_loss: 0.0020 - val_accuracy: 1.0000 - lr: 1.9531e-07\n",
      "Epoch 149/160\n",
      "83/83 [==============================] - 2s 20ms/step - loss: 0.0325 - accuracy: 0.9924 - val_loss: 0.0020 - val_accuracy: 1.0000 - lr: 9.7656e-08\n",
      "Epoch 150/160\n",
      "83/83 [==============================] - 2s 20ms/step - loss: 0.0257 - accuracy: 0.9970 - val_loss: 0.0020 - val_accuracy: 1.0000 - lr: 9.7656e-08\n",
      "Epoch 151/160\n",
      "83/83 [==============================] - 2s 20ms/step - loss: 0.0362 - accuracy: 0.9909 - val_loss: 0.0020 - val_accuracy: 1.0000 - lr: 9.7656e-08\n",
      "Epoch 152/160\n",
      "83/83 [==============================] - 2s 20ms/step - loss: 0.0349 - accuracy: 0.9916 - val_loss: 0.0019 - val_accuracy: 1.0000 - lr: 9.7656e-08\n",
      "Epoch 153/160\n",
      "83/83 [==============================] - 2s 20ms/step - loss: 0.0303 - accuracy: 0.9970 - val_loss: 0.0020 - val_accuracy: 1.0000 - lr: 9.7656e-08\n",
      "Epoch 154/160\n",
      "83/83 [==============================] - 2s 20ms/step - loss: 0.0264 - accuracy: 0.9962 - val_loss: 0.0020 - val_accuracy: 1.0000 - lr: 9.7656e-08\n",
      "Epoch 155/160\n",
      "82/83 [============================>.] - ETA: 0s - loss: 0.0305 - accuracy: 0.9970\n",
      "Epoch 155: ReduceLROnPlateau reducing learning rate to 4.882812376649781e-08.\n",
      "83/83 [==============================] - 2s 20ms/step - loss: 0.0305 - accuracy: 0.9970 - val_loss: 0.0020 - val_accuracy: 1.0000 - lr: 9.7656e-08\n",
      "Epoch 156/160\n",
      "83/83 [==============================] - 2s 20ms/step - loss: 0.0289 - accuracy: 0.9947 - val_loss: 0.0020 - val_accuracy: 1.0000 - lr: 4.8828e-08\n"
     ]
    }
   ],
   "source": [
    "# set weights (either reset or load saved weights)\n",
    "# model.set_weights(initial_weights)\n",
    "\n",
    "#if loading a model for refining\n",
    "#model =  tf.keras.models.load_model('/home/fizzer/ros_ws/training_for_reading/best_model.h5')\n",
    "\n",
    "EPOCHS = 160\n",
    "BATCH_SIZE = 16\n",
    "\n",
    "callbacks = [\n",
    "        tf.keras.callbacks.EarlyStopping(\n",
    "            monitor='val_loss',\n",
    "            patience=50,  # Increased from 10\n",
    "            min_delta=0.00001,  # Minimum change to qualify as improvement\n",
    "            mode='min',\n",
    "            restore_best_weights=True\n",
    "        ),\n",
    "        tf.keras.callbacks.ReduceLROnPlateau(\n",
    "            monitor='val_loss',\n",
    "            factor=0.5,\n",
    "            patience=7,  # Wait longer before reducing LR\n",
    "            verbose=1\n",
    "        ),\n",
    "        tf.keras.callbacks.ModelCheckpoint(\n",
    "            '/home/fizzer/ros_ws/training_for_reading/best_model.h5',\n",
    "            save_best_only=True,\n",
    "            save_weights_only=False,\n",
    "            monitor='val_loss'\n",
    "        )\n",
    "    ]\n",
    "\n",
    "history_conv = model.fit(\n",
    "    train_images, train_labels,\n",
    "    validation_data=(val_images, val_labels),\n",
    "    epochs=EPOCHS,\n",
    "    callbacks=callbacks,\n",
    "    batch_size=BATCH_SIZE\n",
    ")"
   ]
  },
  {
   "cell_type": "code",
   "execution_count": 70,
   "metadata": {
    "colab": {
     "base_uri": "https://localhost:8080/",
     "height": 472
    },
    "id": "T0VZu3ityryj",
    "outputId": "bfbf893b-6e82-432a-c801-dd8076552845"
   },
   "outputs": [
    {
     "data": {
      "image/png": "[encoded data removed]",
      "text/plain": [
       "<Figure size 640x480 with 1 Axes>"
      ]
     },
     "metadata": {},
     "output_type": "display_data"
    }
   ],
   "source": [
    "plt.plot(history_conv.history['loss'])\n",
    "plt.plot(history_conv.history['val_loss'])\n",
    "plt.title('model loss')\n",
    "plt.ylabel('loss')\n",
    "plt.xlabel('epoch')\n",
    "plt.legend(['train loss', 'val loss'], loc='upper left')\n",
    "plt.show()"
   ]
  },
  {
   "cell_type": "code",
   "execution_count": 71,
   "metadata": {
    "colab": {
     "base_uri": "https://localhost:8080/",
     "height": 493
    },
    "id": "LVKm6FOI5BR5",
    "outputId": "b6aca85b-a7ea-4765-b2da-a38e47908d74"
   },
   "outputs": [
    {
     "data": {
      "image/png": "[encoded data removed]",
      "text/plain": [
       "<Figure size 640x480 with 1 Axes>"
      ]
     },
     "metadata": {},
     "output_type": "display_data"
    },
    {
     "name": "stdout",
     "output_type": "stream",
     "text": [
      "True label (one-hot): [0. 0. 0. 0. 0. 0. 0. 0. 0. 0. 0. 0. 0. 0. 0. 0. 0. 0. 0. 0. 0. 1. 0. 0.\n",
      " 0. 0.]\n",
      "True label (letter): V\n",
      "WARNING:tensorflow:6 out of the last 10 calls to <function Model.make_predict_function.<locals>.predict_function at 0x7efc6f114af0> triggered tf.function retracing. Tracing is expensive and the excessive number of tracings could be due to (1) creating @tf.function repeatedly in a loop, (2) passing tensors with different shapes, (3) passing Python objects instead of tensors. For (1), please define your @tf.function outside of the loop. For (2), @tf.function has reduce_retracing=True option that can avoid unnecessary retracing. For (3), please refer to https://www.tensorflow.org/guide/function#controlling_retracing and https://www.tensorflow.org/api_docs/python/tf/function for  more details.\n",
      "1/1 [==============================] - 0s 77ms/step\n",
      "Predicted label (letter): V\n"
     ]
    }
   ],
   "source": [
    "plt.imshow(test_images[10].squeeze(), cmap='gray')  # squeeze to remove extra dimension\n",
    "plt.axis('off')\n",
    "plt.show()\n",
    "\n",
    "print(\"True label (one-hot):\", test_labels[10])\n",
    "\n",
    "true_class = np.argmax(test_labels[10])\n",
    "print(\"True label (letter):\", chr(true_class + 65))\n",
    "\n",
    "pred = model.predict(np.expand_dims(test_images[10], axis=0))\n",
    "predicted_class = np.argmax(pred)\n",
    "print(\"Predicted label (letter):\", chr(predicted_class + 65))\n"
   ]
  },
  {
   "cell_type": "code",
   "execution_count": 55,
   "metadata": {
    "colab": {
     "base_uri": "https://localhost:8080/",
     "height": 1000
    },
    "id": "geFYO1-Ozl9c",
    "outputId": "222e22ed-33e6-41cc-83f3-220156daf337"
   },
   "outputs": [
    {
     "ename": "ModuleNotFoundError",
     "evalue": "No module named 'scipy.sparse.linalg'",
     "output_type": "error",
     "traceback": [
      "\u001b[0;31m---------------------------------------------------------------------------\u001b[0m",
      "\u001b[0;31mModuleNotFoundError\u001b[0m                       Traceback (most recent call last)",
      "Cell \u001b[0;32mIn[55], line 1\u001b[0m\n\u001b[0;32m----> 1\u001b[0m \u001b[38;5;28;01mfrom\u001b[39;00m\u001b[38;5;250m \u001b[39m\u001b[38;5;21;01msklearn\u001b[39;00m\u001b[38;5;21;01m.\u001b[39;00m\u001b[38;5;21;01mmetrics\u001b[39;00m\u001b[38;5;250m \u001b[39m\u001b[38;5;28;01mimport\u001b[39;00m classification_report, confusion_matrix\n\u001b[1;32m      2\u001b[0m \u001b[38;5;28;01mimport\u001b[39;00m\u001b[38;5;250m \u001b[39m\u001b[38;5;21;01mmatplotlib\u001b[39;00m\u001b[38;5;21;01m.\u001b[39;00m\u001b[38;5;21;01mpyplot\u001b[39;00m\u001b[38;5;250m \u001b[39m\u001b[38;5;28;01mas\u001b[39;00m\u001b[38;5;250m \u001b[39m\u001b[38;5;21;01mplt\u001b[39;00m\n\u001b[1;32m      3\u001b[0m \u001b[38;5;28;01mimport\u001b[39;00m\u001b[38;5;250m \u001b[39m\u001b[38;5;21;01mseaborn\u001b[39;00m\u001b[38;5;250m \u001b[39m\u001b[38;5;28;01mas\u001b[39;00m\u001b[38;5;250m \u001b[39m\u001b[38;5;21;01msns\u001b[39;00m\n",
      "File \u001b[0;32m~/.local/lib/python3.8/site-packages/sklearn/__init__.py:83\u001b[0m\n\u001b[1;32m     69\u001b[0m     \u001b[38;5;66;03m# We are not importing the rest of scikit-learn during the build\u001b[39;00m\n\u001b[1;32m     70\u001b[0m     \u001b[38;5;66;03m# process, as it may not be compiled yet\u001b[39;00m\n\u001b[1;32m     71\u001b[0m \u001b[38;5;28;01melse\u001b[39;00m:\n\u001b[0;32m   (...)\u001b[0m\n\u001b[1;32m     77\u001b[0m     \u001b[38;5;66;03m# later is linked to the OpenMP runtime to make it possible to introspect\u001b[39;00m\n\u001b[1;32m     78\u001b[0m     \u001b[38;5;66;03m# it and importing it first would fail if the OpenMP dll cannot be found.\u001b[39;00m\n\u001b[1;32m     79\u001b[0m     \u001b[38;5;28;01mfrom\u001b[39;00m\u001b[38;5;250m \u001b[39m\u001b[38;5;21;01m.\u001b[39;00m\u001b[38;5;250m \u001b[39m\u001b[38;5;28;01mimport\u001b[39;00m (\n\u001b[1;32m     80\u001b[0m         __check_build,  \u001b[38;5;66;03m# noqa: F401\u001b[39;00m\n\u001b[1;32m     81\u001b[0m         _distributor_init,  \u001b[38;5;66;03m# noqa: F401\u001b[39;00m\n\u001b[1;32m     82\u001b[0m     )\n\u001b[0;32m---> 83\u001b[0m     \u001b[38;5;28;01mfrom\u001b[39;00m\u001b[38;5;250m \u001b[39m\u001b[38;5;21;01m.\u001b[39;00m\u001b[38;5;21;01mbase\u001b[39;00m\u001b[38;5;250m \u001b[39m\u001b[38;5;28;01mimport\u001b[39;00m clone\n\u001b[1;32m     84\u001b[0m     \u001b[38;5;28;01mfrom\u001b[39;00m\u001b[38;5;250m \u001b[39m\u001b[38;5;21;01m.\u001b[39;00m\u001b[38;5;21;01mutils\u001b[39;00m\u001b[38;5;21;01m.\u001b[39;00m\u001b[38;5;21;01m_show_versions\u001b[39;00m\u001b[38;5;250m \u001b[39m\u001b[38;5;28;01mimport\u001b[39;00m show_versions\n\u001b[1;32m     86\u001b[0m     __all__ \u001b[38;5;241m=\u001b[39m [\n\u001b[1;32m     87\u001b[0m         \u001b[38;5;124m\"\u001b[39m\u001b[38;5;124mcalibration\u001b[39m\u001b[38;5;124m\"\u001b[39m,\n\u001b[1;32m     88\u001b[0m         \u001b[38;5;124m\"\u001b[39m\u001b[38;5;124mcluster\u001b[39m\u001b[38;5;124m\"\u001b[39m,\n\u001b[0;32m   (...)\u001b[0m\n\u001b[1;32m    129\u001b[0m         \u001b[38;5;124m\"\u001b[39m\u001b[38;5;124mshow_versions\u001b[39m\u001b[38;5;124m\"\u001b[39m,\n\u001b[1;32m    130\u001b[0m     ]\n",
      "File \u001b[0;32m~/.local/lib/python3.8/site-packages/sklearn/base.py:19\u001b[0m\n\u001b[1;32m     17\u001b[0m \u001b[38;5;28;01mfrom\u001b[39;00m\u001b[38;5;250m \u001b[39m\u001b[38;5;21;01m.\u001b[39;00m\u001b[38;5;21;01m_config\u001b[39;00m\u001b[38;5;250m \u001b[39m\u001b[38;5;28;01mimport\u001b[39;00m config_context, get_config\n\u001b[1;32m     18\u001b[0m \u001b[38;5;28;01mfrom\u001b[39;00m\u001b[38;5;250m \u001b[39m\u001b[38;5;21;01m.\u001b[39;00m\u001b[38;5;21;01mexceptions\u001b[39;00m\u001b[38;5;250m \u001b[39m\u001b[38;5;28;01mimport\u001b[39;00m InconsistentVersionWarning\n\u001b[0;32m---> 19\u001b[0m \u001b[38;5;28;01mfrom\u001b[39;00m\u001b[38;5;250m \u001b[39m\u001b[38;5;21;01m.\u001b[39;00m\u001b[38;5;21;01mutils\u001b[39;00m\u001b[38;5;250m \u001b[39m\u001b[38;5;28;01mimport\u001b[39;00m _IS_32BIT\n\u001b[1;32m     20\u001b[0m \u001b[38;5;28;01mfrom\u001b[39;00m\u001b[38;5;250m \u001b[39m\u001b[38;5;21;01m.\u001b[39;00m\u001b[38;5;21;01mutils\u001b[39;00m\u001b[38;5;21;01m.\u001b[39;00m\u001b[38;5;21;01m_estimator_html_repr\u001b[39;00m\u001b[38;5;250m \u001b[39m\u001b[38;5;28;01mimport\u001b[39;00m estimator_html_repr\n\u001b[1;32m     21\u001b[0m \u001b[38;5;28;01mfrom\u001b[39;00m\u001b[38;5;250m \u001b[39m\u001b[38;5;21;01m.\u001b[39;00m\u001b[38;5;21;01mutils\u001b[39;00m\u001b[38;5;21;01m.\u001b[39;00m\u001b[38;5;21;01m_metadata_requests\u001b[39;00m\u001b[38;5;250m \u001b[39m\u001b[38;5;28;01mimport\u001b[39;00m _MetadataRequester\n",
      "File \u001b[0;32m~/.local/lib/python3.8/site-packages/sklearn/utils/__init__.py:22\u001b[0m\n\u001b[1;32m     20\u001b[0m \u001b[38;5;28;01mfrom\u001b[39;00m\u001b[38;5;250m \u001b[39m\u001b[38;5;21;01m.\u001b[39;00m\u001b[38;5;21;01m_bunch\u001b[39;00m\u001b[38;5;250m \u001b[39m\u001b[38;5;28;01mimport\u001b[39;00m Bunch\n\u001b[1;32m     21\u001b[0m \u001b[38;5;28;01mfrom\u001b[39;00m\u001b[38;5;250m \u001b[39m\u001b[38;5;21;01m.\u001b[39;00m\u001b[38;5;21;01m_estimator_html_repr\u001b[39;00m\u001b[38;5;250m \u001b[39m\u001b[38;5;28;01mimport\u001b[39;00m estimator_html_repr\n\u001b[0;32m---> 22\u001b[0m \u001b[38;5;28;01mfrom\u001b[39;00m\u001b[38;5;250m \u001b[39m\u001b[38;5;21;01m.\u001b[39;00m\u001b[38;5;21;01m_param_validation\u001b[39;00m\u001b[38;5;250m \u001b[39m\u001b[38;5;28;01mimport\u001b[39;00m Interval, validate_params\n\u001b[1;32m     23\u001b[0m \u001b[38;5;28;01mfrom\u001b[39;00m\u001b[38;5;250m \u001b[39m\u001b[38;5;21;01m.\u001b[39;00m\u001b[38;5;21;01mclass_weight\u001b[39;00m\u001b[38;5;250m \u001b[39m\u001b[38;5;28;01mimport\u001b[39;00m compute_class_weight, compute_sample_weight\n\u001b[1;32m     24\u001b[0m \u001b[38;5;28;01mfrom\u001b[39;00m\u001b[38;5;250m \u001b[39m\u001b[38;5;21;01m.\u001b[39;00m\u001b[38;5;21;01mdeprecation\u001b[39;00m\u001b[38;5;250m \u001b[39m\u001b[38;5;28;01mimport\u001b[39;00m deprecated\n",
      "File \u001b[0;32m~/.local/lib/python3.8/site-packages/sklearn/utils/_param_validation.py:15\u001b[0m\n\u001b[1;32m     12\u001b[0m \u001b[38;5;28;01mfrom\u001b[39;00m\u001b[38;5;250m \u001b[39m\u001b[38;5;21;01mscipy\u001b[39;00m\u001b[38;5;21;01m.\u001b[39;00m\u001b[38;5;21;01msparse\u001b[39;00m\u001b[38;5;250m \u001b[39m\u001b[38;5;28;01mimport\u001b[39;00m csr_matrix, issparse\n\u001b[1;32m     14\u001b[0m \u001b[38;5;28;01mfrom\u001b[39;00m\u001b[38;5;250m \u001b[39m\u001b[38;5;21;01m.\u001b[39;00m\u001b[38;5;21;01m.\u001b[39;00m\u001b[38;5;21;01m_config\u001b[39;00m\u001b[38;5;250m \u001b[39m\u001b[38;5;28;01mimport\u001b[39;00m config_context, get_config\n\u001b[0;32m---> 15\u001b[0m \u001b[38;5;28;01mfrom\u001b[39;00m\u001b[38;5;250m \u001b[39m\u001b[38;5;21;01m.\u001b[39;00m\u001b[38;5;21;01mvalidation\u001b[39;00m\u001b[38;5;250m \u001b[39m\u001b[38;5;28;01mimport\u001b[39;00m _is_arraylike_not_scalar\n\u001b[1;32m     18\u001b[0m \u001b[38;5;28;01mclass\u001b[39;00m\u001b[38;5;250m \u001b[39m\u001b[38;5;21;01mInvalidParameterError\u001b[39;00m(\u001b[38;5;167;01mValueError\u001b[39;00m, \u001b[38;5;167;01mTypeError\u001b[39;00m):\n\u001b[1;32m     19\u001b[0m \u001b[38;5;250m    \u001b[39m\u001b[38;5;124;03m\"\"\"Custom exception to be raised when the parameter of a class/method/function\u001b[39;00m\n\u001b[1;32m     20\u001b[0m \u001b[38;5;124;03m    does not have a valid type or value.\u001b[39;00m\n\u001b[1;32m     21\u001b[0m \u001b[38;5;124;03m    \"\"\"\u001b[39;00m\n",
      "File \u001b[0;32m~/.local/lib/python3.8/site-packages/sklearn/utils/validation.py:25\u001b[0m\n\u001b[1;32m     23\u001b[0m \u001b[38;5;28;01mfrom\u001b[39;00m\u001b[38;5;250m \u001b[39m\u001b[38;5;21;01m.\u001b[39;00m\u001b[38;5;21;01m.\u001b[39;00m\u001b[38;5;250m \u001b[39m\u001b[38;5;28;01mimport\u001b[39;00m get_config \u001b[38;5;28;01mas\u001b[39;00m _get_config\n\u001b[1;32m     24\u001b[0m \u001b[38;5;28;01mfrom\u001b[39;00m\u001b[38;5;250m \u001b[39m\u001b[38;5;21;01m.\u001b[39;00m\u001b[38;5;21;01m.\u001b[39;00m\u001b[38;5;21;01mexceptions\u001b[39;00m\u001b[38;5;250m \u001b[39m\u001b[38;5;28;01mimport\u001b[39;00m DataConversionWarning, NotFittedError, PositiveSpectrumWarning\n\u001b[0;32m---> 25\u001b[0m \u001b[38;5;28;01mfrom\u001b[39;00m\u001b[38;5;250m \u001b[39m\u001b[38;5;21;01m.\u001b[39;00m\u001b[38;5;21;01m.\u001b[39;00m\u001b[38;5;21;01mutils\u001b[39;00m\u001b[38;5;21;01m.\u001b[39;00m\u001b[38;5;21;01m_array_api\u001b[39;00m\u001b[38;5;250m \u001b[39m\u001b[38;5;28;01mimport\u001b[39;00m _asarray_with_order, _is_numpy_namespace, get_namespace\n\u001b[1;32m     26\u001b[0m \u001b[38;5;28;01mfrom\u001b[39;00m\u001b[38;5;250m \u001b[39m\u001b[38;5;21;01m.\u001b[39;00m\u001b[38;5;21;01m.\u001b[39;00m\u001b[38;5;21;01mutils\u001b[39;00m\u001b[38;5;21;01m.\u001b[39;00m\u001b[38;5;21;01mfixes\u001b[39;00m\u001b[38;5;250m \u001b[39m\u001b[38;5;28;01mimport\u001b[39;00m ComplexWarning\n\u001b[1;32m     27\u001b[0m \u001b[38;5;28;01mfrom\u001b[39;00m\u001b[38;5;250m \u001b[39m\u001b[38;5;21;01m.\u001b[39;00m\u001b[38;5;21;01m_isfinite\u001b[39;00m\u001b[38;5;250m \u001b[39m\u001b[38;5;28;01mimport\u001b[39;00m FiniteStatus, cy_isfinite\n",
      "File \u001b[0;32m~/.local/lib/python3.8/site-packages/sklearn/utils/_array_api.py:9\u001b[0m\n\u001b[1;32m      6\u001b[0m \u001b[38;5;28;01mimport\u001b[39;00m\u001b[38;5;250m \u001b[39m\u001b[38;5;21;01mscipy\u001b[39;00m\u001b[38;5;21;01m.\u001b[39;00m\u001b[38;5;21;01mspecial\u001b[39;00m\u001b[38;5;250m \u001b[39m\u001b[38;5;28;01mas\u001b[39;00m\u001b[38;5;250m \u001b[39m\u001b[38;5;21;01mspecial\u001b[39;00m\n\u001b[1;32m      8\u001b[0m \u001b[38;5;28;01mfrom\u001b[39;00m\u001b[38;5;250m \u001b[39m\u001b[38;5;21;01m.\u001b[39;00m\u001b[38;5;21;01m.\u001b[39;00m\u001b[38;5;21;01m_config\u001b[39;00m\u001b[38;5;250m \u001b[39m\u001b[38;5;28;01mimport\u001b[39;00m get_config\n\u001b[0;32m----> 9\u001b[0m \u001b[38;5;28;01mfrom\u001b[39;00m\u001b[38;5;250m \u001b[39m\u001b[38;5;21;01m.\u001b[39;00m\u001b[38;5;21;01mfixes\u001b[39;00m\u001b[38;5;250m \u001b[39m\u001b[38;5;28;01mimport\u001b[39;00m parse_version\n\u001b[1;32m     12\u001b[0m \u001b[38;5;28;01mdef\u001b[39;00m\u001b[38;5;250m \u001b[39m\u001b[38;5;21m_check_array_api_dispatch\u001b[39m(array_api_dispatch):\n\u001b[1;32m     13\u001b[0m \u001b[38;5;250m    \u001b[39m\u001b[38;5;124;03m\"\"\"Check that array_api_compat is installed and NumPy version is compatible.\u001b[39;00m\n\u001b[1;32m     14\u001b[0m \n\u001b[1;32m     15\u001b[0m \u001b[38;5;124;03m    array_api_compat follows NEP29, which has a higher minimum NumPy version than\u001b[39;00m\n\u001b[1;32m     16\u001b[0m \u001b[38;5;124;03m    scikit-learn.\u001b[39;00m\n\u001b[1;32m     17\u001b[0m \u001b[38;5;124;03m    \"\"\"\u001b[39;00m\n",
      "File \u001b[0;32m~/.local/lib/python3.8/site-packages/sklearn/utils/fixes.py:18\u001b[0m\n\u001b[1;32m     16\u001b[0m \u001b[38;5;28;01mimport\u001b[39;00m\u001b[38;5;250m \u001b[39m\u001b[38;5;21;01mnumpy\u001b[39;00m\u001b[38;5;250m \u001b[39m\u001b[38;5;28;01mas\u001b[39;00m\u001b[38;5;250m \u001b[39m\u001b[38;5;21;01mnp\u001b[39;00m\n\u001b[1;32m     17\u001b[0m \u001b[38;5;28;01mimport\u001b[39;00m\u001b[38;5;250m \u001b[39m\u001b[38;5;21;01mscipy\u001b[39;00m\n\u001b[0;32m---> 18\u001b[0m \u001b[38;5;28;01mimport\u001b[39;00m\u001b[38;5;250m \u001b[39m\u001b[38;5;21;01mscipy\u001b[39;00m\u001b[38;5;21;01m.\u001b[39;00m\u001b[38;5;21;01msparse\u001b[39;00m\u001b[38;5;21;01m.\u001b[39;00m\u001b[38;5;21;01mlinalg\u001b[39;00m\n\u001b[1;32m     19\u001b[0m \u001b[38;5;28;01mimport\u001b[39;00m\u001b[38;5;250m \u001b[39m\u001b[38;5;21;01mscipy\u001b[39;00m\u001b[38;5;21;01m.\u001b[39;00m\u001b[38;5;21;01mstats\u001b[39;00m\n\u001b[1;32m     20\u001b[0m \u001b[38;5;28;01mimport\u001b[39;00m\u001b[38;5;250m \u001b[39m\u001b[38;5;21;01mthreadpoolctl\u001b[39;00m\n",
      "\u001b[0;31mModuleNotFoundError\u001b[0m: No module named 'scipy.sparse.linalg'"
     ]
    }
   ],
   "source": [
    "from sklearn.metrics import classification_report, confusion_matrix\n",
    "import matplotlib.pyplot as plt\n",
    "import seaborn as sns\n",
    "import numpy as np\n",
    "\n",
    "test_loss, test_acc = model.evaluate(test_images, test_labels, verbose=0)\n",
    "print(f\"Test accuracy: {test_acc:.4f} | Test loss: {test_loss:.4f}\")\n",
    "\n",
    "predictions = model.predict(test_images)\n",
    "\n",
    "predicted_classes = np.argmax(predictions, axis=1)\n",
    "true_classes = np.argmax(test_labels, axis=1)\n",
    "\n",
    "print(\"Classification Report:\\n\")\n",
    "print(classification_report(true_classes, predicted_classes, digits=3))\n",
    "\n",
    "conf_matrix = confusion_matrix(true_classes, predicted_classes)\n",
    "\n",
    "plt.figure(figsize=(12, 10))\n",
    "sns.heatmap(conf_matrix, annot=True, fmt='d',\n",
    "            cmap='Blues',\n",
    "            xticklabels=[chr(i) for i in range(65, 91)],\n",
    "            yticklabels=[chr(i) for i in range(65, 91)])\n",
    "plt.xlabel(\"Predicted Label\")\n",
    "plt.ylabel(\"True Label\")\n",
    "plt.title(\"Confusion Matrix\")\n",
    "plt.show()"
   ]
  },
  {
   "cell_type": "markdown",
   "metadata": {
    "id": "8xX3FXEOQXLt"
   },
   "source": []
  },
  {
   "cell_type": "code",
   "execution_count": null,
   "metadata": {
    "id": "INafrXv85wrO"
   },
   "outputs": [],
   "source": []
  },
  {
   "cell_type": "code",
   "execution_count": null,
   "metadata": {
    "id": "bEgokInhD8N9"
   },
   "outputs": [],
   "source": []
  }
 ],
 "metadata": {
  "accelerator": "GPU",
  "colab": {
   "gpuType": "T4",
   "provenance": []
  },
  "kernelspec": {
   "display_name": "Python 3 (ipykernel)",
   "language": "python",
   "name": "python3"
  },
  "language_info": {
   "codemirror_mode": {
    "name": "ipython",
    "version": 3
   },
   "file_extension": ".py",
   "mimetype": "text/x-python",
   "name": "python",
   "nbconvert_exporter": "python",
   "pygments_lexer": "ipython3",
   "version": "3.8.10"
  }
 },
 "nbformat": 4,
 "nbformat_minor": 4
}
