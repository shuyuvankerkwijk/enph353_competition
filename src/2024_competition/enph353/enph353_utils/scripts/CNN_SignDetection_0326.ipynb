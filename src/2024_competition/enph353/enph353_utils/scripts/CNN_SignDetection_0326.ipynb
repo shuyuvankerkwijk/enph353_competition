{
 "cells": [
  {
   "cell_type": "code",
   "execution_count": 12,
   "metadata": {
    "id": "eFflCGxCWPGW"
   },
   "outputs": [],
   "source": [
    "import os\n",
    "import cv2\n",
    "import time\n",
    "import string\n",
    "import random\n",
    "import numpy as np\n",
    "import collections\n",
    "import tensorflow as tf\n",
    "from random import randint\n",
    "from tensorflow import keras\n",
    "import matplotlib.pyplot as plt\n",
    "from PIL import Image, ImageFont, ImageDraw\n",
    "from tensorflow.keras import layers, models, optimizers\n",
    "from tensorflow.keras.preprocessing.image import ImageDataGenerator\n",
    "\n"
   ]
  },
  {
   "cell_type": "code",
   "execution_count": 2,
   "metadata": {
    "colab": {
     "base_uri": "https://localhost:8080/"
    },
    "id": "yGzXFbwQK2Bo",
    "outputId": "88c4dfdc-be3d-4952-8fe8-ef88f70a27f6"
   },
   "outputs": [
    {
     "name": "stdout",
     "output_type": "stream",
     "text": [
      "2.9.3\n"
     ]
    }
   ],
   "source": [
    "print(tf.__version__)"
   ]
  },
  {
   "cell_type": "code",
   "execution_count": 5,
   "metadata": {
    "colab": {
     "base_uri": "https://localhost:8080/"
    },
    "id": "DnS4HynFWaOD",
    "outputId": "602d8710-a6e2-4995-e8cc-f46c4b44b830"
   },
   "outputs": [
    {
     "data": {
      "text/plain": [
       "['A_001.png', 'A_002.png', 'A_003.png', 'A_004.png']"
      ]
     },
     "execution_count": 5,
     "metadata": {},
     "output_type": "execute_result"
    }
   ],
   "source": [
    "folder = \"/home/fizzer/ros_ws/training_for_reading/images/letter_crops/\"\n",
    "\n",
    "filenames = []\n",
    "\n",
    "for file in os.listdir(folder):\n",
    "  filenames.append(file)\n",
    "\n",
    "filenames.sort()\n",
    "filenames[0:4]"
   ]
  },
  {
   "cell_type": "code",
   "execution_count": 6,
   "metadata": {
    "id": "FsUdDpGRHe-y"
   },
   "outputs": [
    {
     "name": "stderr",
     "output_type": "stream",
     "text": [
      "[ WARN:0@25.568] global /io/opencv/modules/imgcodecs/src/loadsave.cpp (239) findDecoder imread_('drive/MyDrive/images_for_sign_reading/full_sign.jpg'): can't open/read file: check file path/integrity\n"
     ]
    }
   ],
   "source": [
    "template_folder = \"drive/MyDrive/images_for_sign_reading\"\n",
    "template_img_bgr = cv2.imread(template_folder + \"/full_sign.jpg\")"
   ]
  },
  {
   "cell_type": "code",
   "execution_count": 7,
   "metadata": {
    "id": "8mBtb32CeGve"
   },
   "outputs": [],
   "source": [
    "save_folder = \"drive/MyDrive/letter_crops\"\n",
    "save_folder_2 = \"drive/MyDrive/top_half_crops\"\n",
    "# os.makedirs(save_folder, exist_ok=True)"
   ]
  },
  {
   "cell_type": "markdown",
   "metadata": {
    "id": "XEKS0_HTWDtx"
   },
   "source": [
    "# Image generation and labelling"
   ]
  },
  {
   "cell_type": "code",
   "execution_count": 8,
   "metadata": {
    "id": "sB8K1fHZWweU"
   },
   "outputs": [],
   "source": [
    "# setup object detection\n",
    "sift = cv2.SIFT_create()\n",
    "index_params = dict(algorithm=0, trees=5)\n",
    "search_params = dict()\n",
    "flann = cv2.FlannBasedMatcher(index_params, search_params)"
   ]
  },
  {
   "cell_type": "code",
   "execution_count": 9,
   "metadata": {
    "id": "s7NbwMkIWFVH"
   },
   "outputs": [],
   "source": [
    "def detection(i, filename):\n",
    "    ''' SIFT PART '''\n",
    "\n",
    "    # import images\n",
    "    # template_img_bgr = cv2.imread(folder + \"/full_sign.jpg\")\n",
    "    query_img_bgr = cv2.imread(folder + \"/\" + filename)\n",
    "\n",
    "    template_img = cv2.cvtColor(template_img_bgr, cv2.COLOR_BGR2GRAY)\n",
    "    query_img = cv2.cvtColor(query_img_bgr, cv2.COLOR_BGR2GRAY)\n",
    "\n",
    "    # scale images\n",
    "    scale_template = 0.4\n",
    "    scale_query = 0.4\n",
    "    downscaled_template = cv2.resize(template_img, None, fx=scale_template, fy=scale_template, interpolation=cv2.INTER_AREA)\n",
    "    downscaled_query = cv2.resize(query_img, None, fx=scale_query, fy=scale_query, interpolation=cv2.INTER_AREA)\n",
    "\n",
    "    # SIFT\n",
    "    start_sift = time.time()\n",
    "    keypoints1, descriptors1 = sift.detectAndCompute(downscaled_template, None)\n",
    "    keypoints2, descriptors2 = sift.detectAndCompute(downscaled_query, None)\n",
    "    end_sift = time.time()\n",
    "\n",
    "    matches = flann.knnMatch(descriptors1, descriptors2, k=2)\n",
    "    good_matches = [m for m, n in matches if m.distance < 0.7 * n.distance]\n",
    "    MIN_MATCH_COUNT = 20\n",
    "\n",
    "    # warp image\n",
    "    if len(good_matches) <= MIN_MATCH_COUNT:\n",
    "        return end_sift - start_sift\n",
    "\n",
    "    src_pts = np.float32([keypoints1[m.queryIdx].pt for m in good_matches]).reshape(-1, 1, 2)\n",
    "    dst_pts = np.float32([keypoints2[m.trainIdx].pt for m in good_matches]).reshape(-1, 1, 2)\n",
    "    H, _ = cv2.findHomography(dst_pts, src_pts, cv2.RANSAC, 5.0)\n",
    "\n",
    "    if H is None or H.shape != (3, 3):\n",
    "        return end_sift - start_sift\n",
    "\n",
    "    S_query = np.array([[scale_query, 0, 0], [0, scale_query, 0], [0, 0, 1]], dtype=np.float32)\n",
    "    S_template_inv = np.array([[1/scale_template, 0, 0], [0, 1/scale_template, 0], [0, 0, 1]], dtype=np.float32)\n",
    "    H_original_scale = S_template_inv @ H @ S_query\n",
    "\n",
    "    warped_img = cv2.warpPerspective(query_img_bgr, H_original_scale, (template_img.shape[1], template_img.shape[0]))\n",
    "\n",
    "    #TODO: check if white frame surrounds fully on all sides\n",
    "    #TODO: determine if warp is 'good' or 'bad'\n",
    "\n",
    "    ''' CROPPING PART '''\n",
    "\n",
    "    # threshold by searching for blue\n",
    "    hsv = cv2.cvtColor(warped_img, cv2.COLOR_BGR2HSV)\n",
    "    lower_blue = np.array([100, 150, 50])\n",
    "    upper_blue = np.array([130, 255, 255])\n",
    "    blue_mask = cv2.inRange(hsv, lower_blue, upper_blue)\n",
    "\n",
    "    # clean up cracks and gaps\n",
    "    kernel = cv2.getStructuringElement(cv2.MORPH_RECT, (3, 3))\n",
    "    mask_cleaned = cv2.morphologyEx(blue_mask, cv2.MORPH_CLOSE, kernel, iterations=2)\n",
    "\n",
    "    # flood fill to get rid of the white surrounding frame starting at (10,10)\n",
    "    flood_filled = mask_cleaned.copy()\n",
    "    cv2.floodFill(flood_filled, None, (10, 10), 0)\n",
    "\n",
    "    #TODO: crop image in half, pass top half into CNN, bottom half keep processing\n",
    "\n",
    "    # find connected components\n",
    "    num_labels, labels, stats, centroids = cv2.connectedComponentsWithStats(flood_filled, connectivity=4)\n",
    "\n",
    "    # filter connected component blobs\n",
    "    min_area = 300\n",
    "    letter_boxes = []\n",
    "    for label in range(1, num_labels):  # skip label 0 (background)\n",
    "        x, y, w, h, area = stats[label]\n",
    "        if area >= min_area:\n",
    "            letter_boxes.append((x, y, w, h))\n",
    "\n",
    "    # sort in order top and bottom, and left to right\n",
    "    img_height = flood_filled.shape[0]\n",
    "    top_half = []\n",
    "    bottom_half = []\n",
    "\n",
    "    for box in letter_boxes:\n",
    "        x, y, w, h = box\n",
    "        center_y = y + h // 2\n",
    "        if center_y < img_height / 2:\n",
    "            top_half.append(box)\n",
    "        else:\n",
    "            bottom_half.append(box)\n",
    "\n",
    "    top_half = sorted(top_half, key=lambda b: b[0])\n",
    "    bottom_half = sorted(bottom_half, key=lambda b: b[0])\n",
    "    letter_boxes = top_half + bottom_half\n",
    "\n",
    "    # plot\n",
    "    plt.figure(figsize=(12, 5))\n",
    "    plt.subplot(1, 5, 1)\n",
    "    plt.imshow(downscaled_query, cmap='gray')\n",
    "    plt.title(\"Downscaled Query\")\n",
    "\n",
    "    plt.subplot(1, 5, 2)\n",
    "    plt.imshow(cv2.cvtColor(warped_img, cv2.COLOR_BGR2RGB))\n",
    "    plt.title(\"Warped Image\")\n",
    "\n",
    "    debug_img = cv2.cvtColor(flood_filled, cv2.COLOR_GRAY2BGR)\n",
    "    for (x, y, w, h) in letter_boxes:\n",
    "        cv2.rectangle(debug_img, (x, y), (x+w, y+h), (0, 255, 0), 2)\n",
    "\n",
    "    plt.subplot(1,5,3)\n",
    "    plt.imshow(mask_cleaned,  cmap='gray')\n",
    "    plt.title(\"Thresholded and Cleaned\")\n",
    "\n",
    "    plt.subplot(1,5,4)\n",
    "    plt.imshow(flood_filled,  cmap='gray')\n",
    "    plt.title(\"Flood Filled\")\n",
    "\n",
    "    plt.subplot(1, 5, 5)\n",
    "    plt.imshow(debug_img)\n",
    "    plt.title(\"Detected Letters\")\n",
    "    plt.axis('off')\n",
    "    plt.show()\n",
    "\n",
    "    # crop/pad all boxes to the same size\n",
    "    target_width = 200\n",
    "    target_height = 240\n",
    "\n",
    "    letter_crops = []\n",
    "\n",
    "    for (x, y, w, h) in letter_boxes:\n",
    "        crop = flood_filled[y:y+h, x:x+w]\n",
    "\n",
    "        if h > target_height or w > target_width:\n",
    "            crop = cv2.resize(crop, (min(w, target_width), min(h, target_height)), interpolation=cv2.INTER_AREA)\n",
    "            h, w = crop.shape\n",
    "\n",
    "        pad_top = (target_height - h) // 2\n",
    "        pad_bottom = target_height - h - pad_top\n",
    "        pad_left = (target_width - w) // 2\n",
    "        pad_right = target_width - w - pad_left\n",
    "\n",
    "        padded_crop = cv2.copyMakeBorder(\n",
    "            crop,\n",
    "            top=pad_top, bottom=pad_bottom,\n",
    "            left=pad_left, right=pad_right,\n",
    "            borderType=cv2.BORDER_CONSTANT,\n",
    "            value=0\n",
    "        )\n",
    "\n",
    "        letter_crops.append(padded_crop)\n",
    "\n",
    "\n",
    "    save_path = os.path.join(save_folder_2, f\"{i}.png\")\n",
    "    cv2.imwrite(save_path, flood_filled[0:img_height])\n",
    "\n",
    "    # # Plot each cropped letter\n",
    "    # if len(letter_crops) > 0:\n",
    "    #     for idx, crop in enumerate(letter_crops):\n",
    "    #         save_path = os.path.join(save_folder, f\"{i}{idx}.png\")\n",
    "    #         cv2.imwrite(save_path, crop)\n",
    "\n",
    "    #     cols = min(10, len(letter_crops))\n",
    "    #     rows = int(np.ceil(len(letter_crops) / cols))\n",
    "    #     fig, axs = plt.subplots(rows, cols, figsize=(2*cols, 2*rows))\n",
    "\n",
    "    #     if rows == 1:\n",
    "    #         axs = np.expand_dims(axs, axis=0)\n",
    "\n",
    "    #     for idx, crop in enumerate(letter_crops):\n",
    "    #         r, c = divmod(idx, cols)\n",
    "    #         axs[r][c].imshow(crop, cmap='gray')\n",
    "    #         axs[r][c].axis('off')\n",
    "\n",
    "    #     for i in range(len(letter_crops), rows * cols):\n",
    "    #         r, c = divmod(i, cols)\n",
    "    #         axs[r][c].axis('off')\n",
    "\n",
    "    #     plt.suptitle(\"Extracted Letters\", fontsize=16)\n",
    "    #     plt.tight_layout()\n",
    "    #     plt.show()\n",
    "    # else:\n",
    "    #     print(f\"Frame {i}: No letters detected.\")\n",
    "\n",
    "    return end_sift - start_sift\n"
   ]
  },
  {
   "cell_type": "code",
   "execution_count": 10,
   "metadata": {
    "colab": {
     "base_uri": "https://localhost:8080/"
    },
    "id": "vtgb7wfze40G",
    "outputId": "360ac2bf-4739-4c5b-8ea3-6af2ee1d9bb7"
   },
   "outputs": [
    {
     "name": "stdout",
     "output_type": "stream",
     "text": [
      "342\n"
     ]
    }
   ],
   "source": [
    "print(len(filenames))"
   ]
  },
  {
   "cell_type": "code",
   "execution_count": 11,
   "metadata": {
    "colab": {
     "base_uri": "https://localhost:8080/",
     "height": 1000
    },
    "id": "0k4cbEEhcq9P",
    "outputId": "59e40d73-f039-44b6-8c7a-442d447a5e7f"
   },
   "outputs": [
    {
     "ename": "error",
     "evalue": "OpenCV(4.6.0) /io/opencv/modules/imgproc/src/color.cpp:182: error: (-215:Assertion failed) !_src.empty() in function 'cvtColor'\n",
     "output_type": "error",
     "traceback": [
      "\u001b[0;31m---------------------------------------------------------------------------\u001b[0m",
      "\u001b[0;31merror\u001b[0m                                     Traceback (most recent call last)",
      "Cell \u001b[0;32mIn[11], line 6\u001b[0m\n\u001b[1;32m      3\u001b[0m total_time \u001b[38;5;241m=\u001b[39m \u001b[38;5;241m0.0\u001b[39m\n\u001b[1;32m      5\u001b[0m \u001b[38;5;28;01mfor\u001b[39;00m i, filename \u001b[38;5;129;01min\u001b[39;00m \u001b[38;5;28menumerate\u001b[39m(random_filenames):\n\u001b[0;32m----> 6\u001b[0m     total_time \u001b[38;5;241m=\u001b[39m total_time \u001b[38;5;241m+\u001b[39m \u001b[43mdetection\u001b[49m\u001b[43m(\u001b[49m\u001b[43mi\u001b[49m\u001b[43m,\u001b[49m\u001b[43m \u001b[49m\u001b[43mfilename\u001b[49m\u001b[43m)\u001b[49m\n\u001b[1;32m      8\u001b[0m \u001b[38;5;28mprint\u001b[39m(\u001b[38;5;124m\"\u001b[39m\u001b[38;5;124mAVERAGE SIFT TIME: \u001b[39m\u001b[38;5;124m\"\u001b[39m, total_time\u001b[38;5;241m/\u001b[39mn)\n",
      "Cell \u001b[0;32mIn[9], line 8\u001b[0m, in \u001b[0;36mdetection\u001b[0;34m(i, filename)\u001b[0m\n\u001b[1;32m      4\u001b[0m \u001b[38;5;66;03m# import images\u001b[39;00m\n\u001b[1;32m      5\u001b[0m \u001b[38;5;66;03m# template_img_bgr = cv2.imread(folder + \"/full_sign.jpg\")\u001b[39;00m\n\u001b[1;32m      6\u001b[0m query_img_bgr \u001b[38;5;241m=\u001b[39m cv2\u001b[38;5;241m.\u001b[39mimread(folder \u001b[38;5;241m+\u001b[39m \u001b[38;5;124m\"\u001b[39m\u001b[38;5;124m/\u001b[39m\u001b[38;5;124m\"\u001b[39m \u001b[38;5;241m+\u001b[39m filename)\n\u001b[0;32m----> 8\u001b[0m template_img \u001b[38;5;241m=\u001b[39m \u001b[43mcv2\u001b[49m\u001b[38;5;241;43m.\u001b[39;49m\u001b[43mcvtColor\u001b[49m\u001b[43m(\u001b[49m\u001b[43mtemplate_img_bgr\u001b[49m\u001b[43m,\u001b[49m\u001b[43m \u001b[49m\u001b[43mcv2\u001b[49m\u001b[38;5;241;43m.\u001b[39;49m\u001b[43mCOLOR_BGR2GRAY\u001b[49m\u001b[43m)\u001b[49m\n\u001b[1;32m      9\u001b[0m query_img \u001b[38;5;241m=\u001b[39m cv2\u001b[38;5;241m.\u001b[39mcvtColor(query_img_bgr, cv2\u001b[38;5;241m.\u001b[39mCOLOR_BGR2GRAY)\n\u001b[1;32m     11\u001b[0m \u001b[38;5;66;03m# scale images\u001b[39;00m\n",
      "\u001b[0;31merror\u001b[0m: OpenCV(4.6.0) /io/opencv/modules/imgproc/src/color.cpp:182: error: (-215:Assertion failed) !_src.empty() in function 'cvtColor'\n"
     ]
    }
   ],
   "source": [
    "n = 170\n",
    "random_filenames = random.sample(filenames, n)\n",
    "total_time = 0.0\n",
    "\n",
    "for i, filename in enumerate(random_filenames):\n",
    "    total_time = total_time + detection(i, filename)\n",
    "\n",
    "print(\"AVERAGE SIFT TIME: \", total_time/n)"
   ]
  },
  {
   "cell_type": "markdown",
   "metadata": {
    "id": "9b_1V62PqrIu"
   },
   "source": [
    "# Import labelled images"
   ]
  },
  {
   "cell_type": "code",
   "execution_count": 13,
   "metadata": {
    "colab": {
     "base_uri": "https://localhost:8080/"
    },
    "id": "F-6PbfbSqrqt",
    "outputId": "e953ec28-b14b-4862-fb2e-66e724f817b1"
   },
   "outputs": [
    {
     "data": {
      "text/plain": [
       "['A_001.png', 'A_002.png', 'A_003.png', 'A_004.png']"
      ]
     },
     "execution_count": 13,
     "metadata": {},
     "output_type": "execute_result"
    }
   ],
   "source": [
    "image_folder = \"/home/fizzer/ros_ws/training_for_reading/images/letter_crops/\"\n",
    "\n",
    "image_filenames = []\n",
    "\n",
    "for file in os.listdir(image_folder):\n",
    "  image_filenames.append(file)\n",
    "\n",
    "image_filenames.sort()\n",
    "image_filenames[0:4]"
   ]
  },
  {
   "cell_type": "code",
   "execution_count": 14,
   "metadata": {
    "colab": {
     "base_uri": "https://localhost:8080/"
    },
    "id": "bVV2fncatuJ8",
    "outputId": "bf141b4f-986f-49ce-a3f0-89b0123301e0"
   },
   "outputs": [
    {
     "name": "stdout",
     "output_type": "stream",
     "text": [
      "Number of unique image files: 342\n"
     ]
    }
   ],
   "source": [
    "print(f\"Number of unique image files: {len(set(image_filenames))}\")"
   ]
  },
  {
   "cell_type": "code",
   "execution_count": 15,
   "metadata": {
    "colab": {
     "base_uri": "https://localhost:8080/"
    },
    "id": "v_v7VfiArMRP",
    "outputId": "9f2a3db7-d095-496b-e4b5-d355c4c5b0eb"
   },
   "outputs": [
    {
     "name": "stdout",
     "output_type": "stream",
     "text": [
      "Total images: 2080\n",
      "Total labels: 2080\n"
     ]
    }
   ],
   "source": [
    "full_dataset_images = []\n",
    "full_dataset_labels = []\n",
    "\n",
    "datagen = ImageDataGenerator(\n",
    "    rotation_range=4,\n",
    "    width_shift_range=0.1,\n",
    "    height_shift_range=0.1,\n",
    "    shear_range=0.1,\n",
    "    zoom_range=0.1,\n",
    "    fill_mode='nearest'\n",
    ")\n",
    "\n",
    "extra_labels = {\n",
    "    3: 4,  5: 2,  6: 2,  7: 4,  9: 2, #d, f, g, h, j\n",
    "    10: 2, 13: 2, 15: 2, 16: 2, 17: 2, #k, n, p, q, r\n",
    "    18: 2, 20: 10, 22: 2, 23: 2, 24: 2, 25: 2 #s, u, v, w, x, y, z\n",
    "}\n",
    "\n",
    "DEFAULT_NUM = 1  # if not in extra labels\n",
    "\n",
    "for image_filename in image_filenames:\n",
    "    image_path = os.path.join(image_folder, image_filename)\n",
    "    image_array = np.array(Image.open(image_path))\n",
    "    image_array = np.expand_dims(image_array, axis=-1)\n",
    "    image_array = np.expand_dims(image_array, axis=0)\n",
    "\n",
    "    label = int(ord(image_filename[0]) - 65)  # A-Z to 0-25\n",
    "\n",
    "    num_to_generate = 4*extra_labels.get(label, DEFAULT_NUM)\n",
    "\n",
    "    datagen_iterator = datagen.flow(image_array, batch_size=1)\n",
    "\n",
    "    for _ in range(num_to_generate):\n",
    "        value = next(datagen_iterator)\n",
    "        img = value[0].astype('uint8')\n",
    "\n",
    "        full_dataset_images.append(img)\n",
    "        full_dataset_labels.append(label)\n",
    "\n",
    "print(f\"Total images: {len(full_dataset_images)}\")\n",
    "print(f\"Total labels: {len(full_dataset_labels)}\")\n"
   ]
  },
  {
   "cell_type": "code",
   "execution_count": 16,
   "metadata": {
    "colab": {
     "base_uri": "https://localhost:8080/",
     "height": 469
    },
    "id": "4vU9IETmvqaF",
    "outputId": "4c9440eb-ef6a-4e30-c006-d735bb91b7f7"
   },
   "outputs": [
    {
     "name": "stdout",
     "output_type": "stream",
     "text": [
      "Unique Labels in Full Set: 26\n"
     ]
    },
    {
     "data": {
      "image/png": "[encoded data removed]",
      "text/plain": [
       "<Figure size 640x480 with 1 Axes>"
      ]
     },
     "metadata": {},
     "output_type": "display_data"
    }
   ],
   "source": [
    "print(\"Unique Labels in Full Set:\", len(np.unique(full_dataset_labels)))\n",
    "\n",
    "counter = collections.Counter(full_dataset_labels)\n",
    "plt.bar(range(26), [counter[i] for i in range(26)])\n",
    "plt.xticks(range(26), [chr(i+65) for i in range(26)])\n",
    "plt.title(\"Number of images per letter\")\n",
    "plt.show()"
   ]
  },
  {
   "cell_type": "code",
   "execution_count": 21,
   "metadata": {
    "colab": {
     "base_uri": "https://localhost:8080/"
    },
    "id": "qOh-oG4_uC4q",
    "outputId": "80f0a2a9-b451-4f59-ed2f-de97e3ee7331"
   },
   "outputs": [
    {
     "name": "stdout",
     "output_type": "stream",
     "text": [
      "Training set: 1456 images\n",
      "Validation set: 312 images\n",
      "Test set: 312 images\n"
     ]
    }
   ],
   "source": [
    "num_samples = len(full_dataset_images)\n",
    "indices = np.arange(num_samples)\n",
    "np.random.shuffle(indices)\n",
    "\n",
    "shuffled_images = np.array(full_dataset_images)[indices]\n",
    "shuffled_labels = np.array(full_dataset_labels)[indices]\n",
    "\n",
    "# Define split percentages\n",
    "train_split = 0.7\n",
    "val_split = 0.15\n",
    "test_split = 0.15\n",
    "\n",
    "# Calculate split indices\n",
    "train_end = int(train_split * num_samples)\n",
    "val_end = train_end + int(val_split * num_samples)\n",
    "\n",
    "# Perform the splits\n",
    "train_images, train_labels = shuffled_images[:train_end], shuffled_labels[:train_end]\n",
    "val_images, val_labels = shuffled_images[train_end:val_end], shuffled_labels[train_end:val_end]\n",
    "test_images, test_labels = shuffled_images[val_end:], shuffled_labels[val_end:]\n",
    "\n",
    "# Free up memory\n",
    "del shuffled_images\n",
    "del shuffled_labels\n",
    "\n",
    "# Print stats\n",
    "print(f\"Training set: {len(train_images)} images\")\n",
    "print(f\"Validation set: {len(val_images)} images\")\n",
    "print(f\"Test set: {len(test_images)} images\")"
   ]
  },
  {
   "cell_type": "code",
   "execution_count": 22,
   "metadata": {
    "colab": {
     "base_uri": "https://localhost:8080/",
     "height": 470
    },
    "id": "BGq_NlSPuJF0",
    "outputId": "4bc89710-90c7-4d51-8dc4-21ba7bf28cd0"
   },
   "outputs": [
    {
     "name": "stdout",
     "output_type": "stream",
     "text": [
      "25\n"
     ]
    },
    {
     "ename": "TypeError",
     "evalue": "Invalid shape (240, 200, 1) for image data",
     "output_type": "error",
     "traceback": [
      "\u001b[0;31m---------------------------------------------------------------------------\u001b[0m",
      "\u001b[0;31mTypeError\u001b[0m                                 Traceback (most recent call last)",
      "Cell \u001b[0;32mIn[22], line 2\u001b[0m\n\u001b[1;32m      1\u001b[0m \u001b[38;5;28mprint\u001b[39m(train_labels[\u001b[38;5;241m100\u001b[39m])\n\u001b[0;32m----> 2\u001b[0m \u001b[43mplt\u001b[49m\u001b[38;5;241;43m.\u001b[39;49m\u001b[43mimshow\u001b[49m\u001b[43m(\u001b[49m\u001b[43mtrain_images\u001b[49m\u001b[43m[\u001b[49m\u001b[38;5;241;43m100\u001b[39;49m\u001b[43m]\u001b[49m\u001b[43m)\u001b[49m\n",
      "File \u001b[0;32m/usr/lib/python3/dist-packages/matplotlib/pyplot.py:2671\u001b[0m, in \u001b[0;36mimshow\u001b[0;34m(X, cmap, norm, aspect, interpolation, alpha, vmin, vmax, origin, extent, shape, filternorm, filterrad, imlim, resample, url, data, **kwargs)\u001b[0m\n\u001b[1;32m   2664\u001b[0m \u001b[38;5;129m@docstring\u001b[39m\u001b[38;5;241m.\u001b[39mcopy(Axes\u001b[38;5;241m.\u001b[39mimshow)\n\u001b[1;32m   2665\u001b[0m \u001b[38;5;28;01mdef\u001b[39;00m\u001b[38;5;250m \u001b[39m\u001b[38;5;21mimshow\u001b[39m(\n\u001b[1;32m   2666\u001b[0m         X, cmap\u001b[38;5;241m=\u001b[39m\u001b[38;5;28;01mNone\u001b[39;00m, norm\u001b[38;5;241m=\u001b[39m\u001b[38;5;28;01mNone\u001b[39;00m, aspect\u001b[38;5;241m=\u001b[39m\u001b[38;5;28;01mNone\u001b[39;00m, interpolation\u001b[38;5;241m=\u001b[39m\u001b[38;5;28;01mNone\u001b[39;00m,\n\u001b[0;32m   (...)\u001b[0m\n\u001b[1;32m   2669\u001b[0m         filterrad\u001b[38;5;241m=\u001b[39m\u001b[38;5;241m4.0\u001b[39m, imlim\u001b[38;5;241m=\u001b[39mcbook\u001b[38;5;241m.\u001b[39mdeprecation\u001b[38;5;241m.\u001b[39m_deprecated_parameter,\n\u001b[1;32m   2670\u001b[0m         resample\u001b[38;5;241m=\u001b[39m\u001b[38;5;28;01mNone\u001b[39;00m, url\u001b[38;5;241m=\u001b[39m\u001b[38;5;28;01mNone\u001b[39;00m, \u001b[38;5;241m*\u001b[39m, data\u001b[38;5;241m=\u001b[39m\u001b[38;5;28;01mNone\u001b[39;00m, \u001b[38;5;241m*\u001b[39m\u001b[38;5;241m*\u001b[39mkwargs):\n\u001b[0;32m-> 2671\u001b[0m     __ret \u001b[38;5;241m=\u001b[39m \u001b[43mgca\u001b[49m\u001b[43m(\u001b[49m\u001b[43m)\u001b[49m\u001b[38;5;241;43m.\u001b[39;49m\u001b[43mimshow\u001b[49m\u001b[43m(\u001b[49m\n\u001b[1;32m   2672\u001b[0m \u001b[43m        \u001b[49m\u001b[43mX\u001b[49m\u001b[43m,\u001b[49m\u001b[43m \u001b[49m\u001b[43mcmap\u001b[49m\u001b[38;5;241;43m=\u001b[39;49m\u001b[43mcmap\u001b[49m\u001b[43m,\u001b[49m\u001b[43m \u001b[49m\u001b[43mnorm\u001b[49m\u001b[38;5;241;43m=\u001b[39;49m\u001b[43mnorm\u001b[49m\u001b[43m,\u001b[49m\u001b[43m \u001b[49m\u001b[43maspect\u001b[49m\u001b[38;5;241;43m=\u001b[39;49m\u001b[43maspect\u001b[49m\u001b[43m,\u001b[49m\n\u001b[1;32m   2673\u001b[0m \u001b[43m        \u001b[49m\u001b[43minterpolation\u001b[49m\u001b[38;5;241;43m=\u001b[39;49m\u001b[43minterpolation\u001b[49m\u001b[43m,\u001b[49m\u001b[43m \u001b[49m\u001b[43malpha\u001b[49m\u001b[38;5;241;43m=\u001b[39;49m\u001b[43malpha\u001b[49m\u001b[43m,\u001b[49m\u001b[43m \u001b[49m\u001b[43mvmin\u001b[49m\u001b[38;5;241;43m=\u001b[39;49m\u001b[43mvmin\u001b[49m\u001b[43m,\u001b[49m\n\u001b[1;32m   2674\u001b[0m \u001b[43m        \u001b[49m\u001b[43mvmax\u001b[49m\u001b[38;5;241;43m=\u001b[39;49m\u001b[43mvmax\u001b[49m\u001b[43m,\u001b[49m\u001b[43m \u001b[49m\u001b[43morigin\u001b[49m\u001b[38;5;241;43m=\u001b[39;49m\u001b[43morigin\u001b[49m\u001b[43m,\u001b[49m\u001b[43m \u001b[49m\u001b[43mextent\u001b[49m\u001b[38;5;241;43m=\u001b[39;49m\u001b[43mextent\u001b[49m\u001b[43m,\u001b[49m\u001b[43m \u001b[49m\u001b[43mshape\u001b[49m\u001b[38;5;241;43m=\u001b[39;49m\u001b[43mshape\u001b[49m\u001b[43m,\u001b[49m\n\u001b[1;32m   2675\u001b[0m \u001b[43m        \u001b[49m\u001b[43mfilternorm\u001b[49m\u001b[38;5;241;43m=\u001b[39;49m\u001b[43mfilternorm\u001b[49m\u001b[43m,\u001b[49m\u001b[43m \u001b[49m\u001b[43mfilterrad\u001b[49m\u001b[38;5;241;43m=\u001b[39;49m\u001b[43mfilterrad\u001b[49m\u001b[43m,\u001b[49m\u001b[43m \u001b[49m\u001b[43mimlim\u001b[49m\u001b[38;5;241;43m=\u001b[39;49m\u001b[43mimlim\u001b[49m\u001b[43m,\u001b[49m\n\u001b[1;32m   2676\u001b[0m \u001b[43m        \u001b[49m\u001b[43mresample\u001b[49m\u001b[38;5;241;43m=\u001b[39;49m\u001b[43mresample\u001b[49m\u001b[43m,\u001b[49m\u001b[43m \u001b[49m\u001b[43murl\u001b[49m\u001b[38;5;241;43m=\u001b[39;49m\u001b[43murl\u001b[49m\u001b[43m,\u001b[49m\u001b[43m \u001b[49m\u001b[38;5;241;43m*\u001b[39;49m\u001b[38;5;241;43m*\u001b[39;49m\u001b[43m(\u001b[49m\u001b[43m{\u001b[49m\u001b[38;5;124;43m\"\u001b[39;49m\u001b[38;5;124;43mdata\u001b[39;49m\u001b[38;5;124;43m\"\u001b[39;49m\u001b[43m:\u001b[49m\u001b[43m \u001b[49m\u001b[43mdata\u001b[49m\u001b[43m}\u001b[49m\u001b[43m \u001b[49m\u001b[38;5;28;43;01mif\u001b[39;49;00m\u001b[43m \u001b[49m\u001b[43mdata\u001b[49m\u001b[43m \u001b[49m\u001b[38;5;129;43;01mis\u001b[39;49;00m\u001b[43m \u001b[49m\u001b[38;5;129;43;01mnot\u001b[39;49;00m\n\u001b[1;32m   2677\u001b[0m \u001b[43m        \u001b[49m\u001b[38;5;28;43;01mNone\u001b[39;49;00m\u001b[43m \u001b[49m\u001b[38;5;28;43;01melse\u001b[39;49;00m\u001b[43m \u001b[49m\u001b[43m{\u001b[49m\u001b[43m}\u001b[49m\u001b[43m)\u001b[49m\u001b[43m,\u001b[49m\u001b[43m \u001b[49m\u001b[38;5;241;43m*\u001b[39;49m\u001b[38;5;241;43m*\u001b[39;49m\u001b[43mkwargs\u001b[49m\u001b[43m)\u001b[49m\n\u001b[1;32m   2678\u001b[0m     sci(__ret)\n\u001b[1;32m   2679\u001b[0m     \u001b[38;5;28;01mreturn\u001b[39;00m __ret\n",
      "File \u001b[0;32m/usr/lib/python3/dist-packages/matplotlib/__init__.py:1601\u001b[0m, in \u001b[0;36m_preprocess_data.<locals>.inner\u001b[0;34m(ax, data, *args, **kwargs)\u001b[0m\n\u001b[1;32m   1598\u001b[0m \u001b[38;5;129m@functools\u001b[39m\u001b[38;5;241m.\u001b[39mwraps(func)\n\u001b[1;32m   1599\u001b[0m \u001b[38;5;28;01mdef\u001b[39;00m\u001b[38;5;250m \u001b[39m\u001b[38;5;21minner\u001b[39m(ax, \u001b[38;5;241m*\u001b[39margs, data\u001b[38;5;241m=\u001b[39m\u001b[38;5;28;01mNone\u001b[39;00m, \u001b[38;5;241m*\u001b[39m\u001b[38;5;241m*\u001b[39mkwargs):\n\u001b[1;32m   1600\u001b[0m     \u001b[38;5;28;01mif\u001b[39;00m data \u001b[38;5;129;01mis\u001b[39;00m \u001b[38;5;28;01mNone\u001b[39;00m:\n\u001b[0;32m-> 1601\u001b[0m         \u001b[38;5;28;01mreturn\u001b[39;00m \u001b[43mfunc\u001b[49m\u001b[43m(\u001b[49m\u001b[43max\u001b[49m\u001b[43m,\u001b[49m\u001b[43m \u001b[49m\u001b[38;5;241;43m*\u001b[39;49m\u001b[38;5;28;43mmap\u001b[39;49m\u001b[43m(\u001b[49m\u001b[43msanitize_sequence\u001b[49m\u001b[43m,\u001b[49m\u001b[43m \u001b[49m\u001b[43margs\u001b[49m\u001b[43m)\u001b[49m\u001b[43m,\u001b[49m\u001b[43m \u001b[49m\u001b[38;5;241;43m*\u001b[39;49m\u001b[38;5;241;43m*\u001b[39;49m\u001b[43mkwargs\u001b[49m\u001b[43m)\u001b[49m\n\u001b[1;32m   1603\u001b[0m     bound \u001b[38;5;241m=\u001b[39m new_sig\u001b[38;5;241m.\u001b[39mbind(ax, \u001b[38;5;241m*\u001b[39margs, \u001b[38;5;241m*\u001b[39m\u001b[38;5;241m*\u001b[39mkwargs)\n\u001b[1;32m   1604\u001b[0m     needs_label \u001b[38;5;241m=\u001b[39m (label_namer\n\u001b[1;32m   1605\u001b[0m                    \u001b[38;5;129;01mand\u001b[39;00m \u001b[38;5;124m\"\u001b[39m\u001b[38;5;124mlabel\u001b[39m\u001b[38;5;124m\"\u001b[39m \u001b[38;5;129;01mnot\u001b[39;00m \u001b[38;5;129;01min\u001b[39;00m bound\u001b[38;5;241m.\u001b[39marguments\n\u001b[1;32m   1606\u001b[0m                    \u001b[38;5;129;01mand\u001b[39;00m \u001b[38;5;124m\"\u001b[39m\u001b[38;5;124mlabel\u001b[39m\u001b[38;5;124m\"\u001b[39m \u001b[38;5;129;01mnot\u001b[39;00m \u001b[38;5;129;01min\u001b[39;00m bound\u001b[38;5;241m.\u001b[39mkwargs)\n",
      "File \u001b[0;32m/usr/lib/python3/dist-packages/matplotlib/cbook/deprecation.py:369\u001b[0m, in \u001b[0;36m_delete_parameter.<locals>.wrapper\u001b[0;34m(*args, **kwargs)\u001b[0m\n\u001b[1;32m    363\u001b[0m \u001b[38;5;28;01mif\u001b[39;00m name \u001b[38;5;129;01min\u001b[39;00m arguments \u001b[38;5;129;01mand\u001b[39;00m arguments[name] \u001b[38;5;241m!=\u001b[39m _deprecated_parameter:\n\u001b[1;32m    364\u001b[0m     warn_deprecated(\n\u001b[1;32m    365\u001b[0m         since, message\u001b[38;5;241m=\u001b[39m\u001b[38;5;124mf\u001b[39m\u001b[38;5;124m\"\u001b[39m\u001b[38;5;124mThe \u001b[39m\u001b[38;5;132;01m{\u001b[39;00mname\u001b[38;5;132;01m!r}\u001b[39;00m\u001b[38;5;124m parameter of \u001b[39m\u001b[38;5;132;01m{\u001b[39;00mfunc\u001b[38;5;241m.\u001b[39m\u001b[38;5;18m__name__\u001b[39m\u001b[38;5;132;01m}\u001b[39;00m\u001b[38;5;124m() \u001b[39m\u001b[38;5;124m\"\u001b[39m\n\u001b[1;32m    366\u001b[0m         \u001b[38;5;124mf\u001b[39m\u001b[38;5;124m\"\u001b[39m\u001b[38;5;124mis deprecated since Matplotlib \u001b[39m\u001b[38;5;132;01m{\u001b[39;00msince\u001b[38;5;132;01m}\u001b[39;00m\u001b[38;5;124m and will be removed \u001b[39m\u001b[38;5;124m\"\u001b[39m\n\u001b[1;32m    367\u001b[0m         \u001b[38;5;124mf\u001b[39m\u001b[38;5;124m\"\u001b[39m\u001b[38;5;124m%(removal)s.  If any parameter follows \u001b[39m\u001b[38;5;132;01m{\u001b[39;00mname\u001b[38;5;132;01m!r}\u001b[39;00m\u001b[38;5;124m, they \u001b[39m\u001b[38;5;124m\"\u001b[39m\n\u001b[1;32m    368\u001b[0m         \u001b[38;5;124mf\u001b[39m\u001b[38;5;124m\"\u001b[39m\u001b[38;5;124mshould be pass as keyword, not positionally.\u001b[39m\u001b[38;5;124m\"\u001b[39m)\n\u001b[0;32m--> 369\u001b[0m \u001b[38;5;28;01mreturn\u001b[39;00m \u001b[43mfunc\u001b[49m\u001b[43m(\u001b[49m\u001b[38;5;241;43m*\u001b[39;49m\u001b[43margs\u001b[49m\u001b[43m,\u001b[49m\u001b[43m \u001b[49m\u001b[38;5;241;43m*\u001b[39;49m\u001b[38;5;241;43m*\u001b[39;49m\u001b[43mkwargs\u001b[49m\u001b[43m)\u001b[49m\n",
      "File \u001b[0;32m/usr/lib/python3/dist-packages/matplotlib/cbook/deprecation.py:369\u001b[0m, in \u001b[0;36m_delete_parameter.<locals>.wrapper\u001b[0;34m(*args, **kwargs)\u001b[0m\n\u001b[1;32m    363\u001b[0m \u001b[38;5;28;01mif\u001b[39;00m name \u001b[38;5;129;01min\u001b[39;00m arguments \u001b[38;5;129;01mand\u001b[39;00m arguments[name] \u001b[38;5;241m!=\u001b[39m _deprecated_parameter:\n\u001b[1;32m    364\u001b[0m     warn_deprecated(\n\u001b[1;32m    365\u001b[0m         since, message\u001b[38;5;241m=\u001b[39m\u001b[38;5;124mf\u001b[39m\u001b[38;5;124m\"\u001b[39m\u001b[38;5;124mThe \u001b[39m\u001b[38;5;132;01m{\u001b[39;00mname\u001b[38;5;132;01m!r}\u001b[39;00m\u001b[38;5;124m parameter of \u001b[39m\u001b[38;5;132;01m{\u001b[39;00mfunc\u001b[38;5;241m.\u001b[39m\u001b[38;5;18m__name__\u001b[39m\u001b[38;5;132;01m}\u001b[39;00m\u001b[38;5;124m() \u001b[39m\u001b[38;5;124m\"\u001b[39m\n\u001b[1;32m    366\u001b[0m         \u001b[38;5;124mf\u001b[39m\u001b[38;5;124m\"\u001b[39m\u001b[38;5;124mis deprecated since Matplotlib \u001b[39m\u001b[38;5;132;01m{\u001b[39;00msince\u001b[38;5;132;01m}\u001b[39;00m\u001b[38;5;124m and will be removed \u001b[39m\u001b[38;5;124m\"\u001b[39m\n\u001b[1;32m    367\u001b[0m         \u001b[38;5;124mf\u001b[39m\u001b[38;5;124m\"\u001b[39m\u001b[38;5;124m%(removal)s.  If any parameter follows \u001b[39m\u001b[38;5;132;01m{\u001b[39;00mname\u001b[38;5;132;01m!r}\u001b[39;00m\u001b[38;5;124m, they \u001b[39m\u001b[38;5;124m\"\u001b[39m\n\u001b[1;32m    368\u001b[0m         \u001b[38;5;124mf\u001b[39m\u001b[38;5;124m\"\u001b[39m\u001b[38;5;124mshould be pass as keyword, not positionally.\u001b[39m\u001b[38;5;124m\"\u001b[39m)\n\u001b[0;32m--> 369\u001b[0m \u001b[38;5;28;01mreturn\u001b[39;00m \u001b[43mfunc\u001b[49m\u001b[43m(\u001b[49m\u001b[38;5;241;43m*\u001b[39;49m\u001b[43margs\u001b[49m\u001b[43m,\u001b[49m\u001b[43m \u001b[49m\u001b[38;5;241;43m*\u001b[39;49m\u001b[38;5;241;43m*\u001b[39;49m\u001b[43mkwargs\u001b[49m\u001b[43m)\u001b[49m\n",
      "File \u001b[0;32m/usr/lib/python3/dist-packages/matplotlib/axes/_axes.py:5679\u001b[0m, in \u001b[0;36mAxes.imshow\u001b[0;34m(self, X, cmap, norm, aspect, interpolation, alpha, vmin, vmax, origin, extent, shape, filternorm, filterrad, imlim, resample, url, **kwargs)\u001b[0m\n\u001b[1;32m   5674\u001b[0m \u001b[38;5;28mself\u001b[39m\u001b[38;5;241m.\u001b[39mset_aspect(aspect)\n\u001b[1;32m   5675\u001b[0m im \u001b[38;5;241m=\u001b[39m mimage\u001b[38;5;241m.\u001b[39mAxesImage(\u001b[38;5;28mself\u001b[39m, cmap, norm, interpolation, origin, extent,\n\u001b[1;32m   5676\u001b[0m                       filternorm\u001b[38;5;241m=\u001b[39mfilternorm, filterrad\u001b[38;5;241m=\u001b[39mfilterrad,\n\u001b[1;32m   5677\u001b[0m                       resample\u001b[38;5;241m=\u001b[39mresample, \u001b[38;5;241m*\u001b[39m\u001b[38;5;241m*\u001b[39mkwargs)\n\u001b[0;32m-> 5679\u001b[0m \u001b[43mim\u001b[49m\u001b[38;5;241;43m.\u001b[39;49m\u001b[43mset_data\u001b[49m\u001b[43m(\u001b[49m\u001b[43mX\u001b[49m\u001b[43m)\u001b[49m\n\u001b[1;32m   5680\u001b[0m im\u001b[38;5;241m.\u001b[39mset_alpha(alpha)\n\u001b[1;32m   5681\u001b[0m \u001b[38;5;28;01mif\u001b[39;00m im\u001b[38;5;241m.\u001b[39mget_clip_path() \u001b[38;5;129;01mis\u001b[39;00m \u001b[38;5;28;01mNone\u001b[39;00m:\n\u001b[1;32m   5682\u001b[0m     \u001b[38;5;66;03m# image does not already have clipping set, clip to axes patch\u001b[39;00m\n",
      "File \u001b[0;32m/usr/lib/python3/dist-packages/matplotlib/image.py:689\u001b[0m, in \u001b[0;36m_ImageBase.set_data\u001b[0;34m(self, A)\u001b[0m\n\u001b[1;32m    684\u001b[0m     \u001b[38;5;28;01mraise\u001b[39;00m \u001b[38;5;167;01mTypeError\u001b[39;00m(\u001b[38;5;124m\"\u001b[39m\u001b[38;5;124mImage data of dtype \u001b[39m\u001b[38;5;132;01m{}\u001b[39;00m\u001b[38;5;124m cannot be converted to \u001b[39m\u001b[38;5;124m\"\u001b[39m\n\u001b[1;32m    685\u001b[0m                     \u001b[38;5;124m\"\u001b[39m\u001b[38;5;124mfloat\u001b[39m\u001b[38;5;124m\"\u001b[39m\u001b[38;5;241m.\u001b[39mformat(\u001b[38;5;28mself\u001b[39m\u001b[38;5;241m.\u001b[39m_A\u001b[38;5;241m.\u001b[39mdtype))\n\u001b[1;32m    687\u001b[0m \u001b[38;5;28;01mif\u001b[39;00m \u001b[38;5;129;01mnot\u001b[39;00m (\u001b[38;5;28mself\u001b[39m\u001b[38;5;241m.\u001b[39m_A\u001b[38;5;241m.\u001b[39mndim \u001b[38;5;241m==\u001b[39m \u001b[38;5;241m2\u001b[39m\n\u001b[1;32m    688\u001b[0m         \u001b[38;5;129;01mor\u001b[39;00m \u001b[38;5;28mself\u001b[39m\u001b[38;5;241m.\u001b[39m_A\u001b[38;5;241m.\u001b[39mndim \u001b[38;5;241m==\u001b[39m \u001b[38;5;241m3\u001b[39m \u001b[38;5;129;01mand\u001b[39;00m \u001b[38;5;28mself\u001b[39m\u001b[38;5;241m.\u001b[39m_A\u001b[38;5;241m.\u001b[39mshape[\u001b[38;5;241m-\u001b[39m\u001b[38;5;241m1\u001b[39m] \u001b[38;5;129;01min\u001b[39;00m [\u001b[38;5;241m3\u001b[39m, \u001b[38;5;241m4\u001b[39m]):\n\u001b[0;32m--> 689\u001b[0m     \u001b[38;5;28;01mraise\u001b[39;00m \u001b[38;5;167;01mTypeError\u001b[39;00m(\u001b[38;5;124m\"\u001b[39m\u001b[38;5;124mInvalid shape \u001b[39m\u001b[38;5;132;01m{}\u001b[39;00m\u001b[38;5;124m for image data\u001b[39m\u001b[38;5;124m\"\u001b[39m\n\u001b[1;32m    690\u001b[0m                     \u001b[38;5;241m.\u001b[39mformat(\u001b[38;5;28mself\u001b[39m\u001b[38;5;241m.\u001b[39m_A\u001b[38;5;241m.\u001b[39mshape))\n\u001b[1;32m    692\u001b[0m \u001b[38;5;28;01mif\u001b[39;00m \u001b[38;5;28mself\u001b[39m\u001b[38;5;241m.\u001b[39m_A\u001b[38;5;241m.\u001b[39mndim \u001b[38;5;241m==\u001b[39m \u001b[38;5;241m3\u001b[39m:\n\u001b[1;32m    693\u001b[0m     \u001b[38;5;66;03m# If the input data has values outside the valid range (after\u001b[39;00m\n\u001b[1;32m    694\u001b[0m     \u001b[38;5;66;03m# normalisation), we issue a warning and then clip X to the bounds\u001b[39;00m\n\u001b[1;32m    695\u001b[0m     \u001b[38;5;66;03m# - otherwise casting wraps extreme values, hiding outliers and\u001b[39;00m\n\u001b[1;32m    696\u001b[0m     \u001b[38;5;66;03m# making reliable interpretation impossible.\u001b[39;00m\n\u001b[1;32m    697\u001b[0m     high \u001b[38;5;241m=\u001b[39m \u001b[38;5;241m255\u001b[39m \u001b[38;5;28;01mif\u001b[39;00m np\u001b[38;5;241m.\u001b[39missubdtype(\u001b[38;5;28mself\u001b[39m\u001b[38;5;241m.\u001b[39m_A\u001b[38;5;241m.\u001b[39mdtype, np\u001b[38;5;241m.\u001b[39minteger) \u001b[38;5;28;01melse\u001b[39;00m \u001b[38;5;241m1\u001b[39m\n",
      "\u001b[0;31mTypeError\u001b[0m: Invalid shape (240, 200, 1) for image data"
     ]
    },
    {
     "data": {
      "image/png": "[encoded data removed]",
      "text/plain": [
       "<Figure size 640x480 with 1 Axes>"
      ]
     },
     "metadata": {},
     "output_type": "display_data"
    }
   ],
   "source": [
    "print(train_labels[100])\n",
    "plt.imshow(train_images[100])"
   ]
  },
  {
   "cell_type": "code",
   "execution_count": 23,
   "metadata": {
    "colab": {
     "base_uri": "https://localhost:8080/"
    },
    "id": "ikewyxUeueyu",
    "outputId": "3ffb295c-472a-4355-9235-71551f5ac144"
   },
   "outputs": [
    {
     "name": "stdout",
     "output_type": "stream",
     "text": [
      "Image shape: (240, 200, 1)\n",
      "<class 'numpy.ndarray'>\n",
      "float32\n"
     ]
    }
   ],
   "source": [
    "train_images = train_images.astype(np.float32, copy=False) # convert\n",
    "train_images /= 255.0  # normalize\n",
    "\n",
    "val_images = val_images.astype(np.float32, copy=False)\n",
    "val_images /= 255.0\n",
    "\n",
    "test_images = test_images.astype(np.float32, copy=False)\n",
    "test_images /= 255.0\n",
    "\n",
    "print(\"Image shape:\", train_images[0].shape)\n",
    "print(type(train_images[0]))\n",
    "print(train_images[0].dtype)"
   ]
  },
  {
   "cell_type": "code",
   "execution_count": 24,
   "metadata": {
    "colab": {
     "base_uri": "https://localhost:8080/"
    },
    "id": "33chTlSrukCv",
    "outputId": "eb31f8d1-a07a-4b98-b4ea-b886091d33a9"
   },
   "outputs": [
    {
     "name": "stdout",
     "output_type": "stream",
     "text": [
      "Unique Labels in Training Set: 26\n",
      "Unique Labels in Validation Set: 26\n",
      "Unique Labels in Test Set: 26\n"
     ]
    }
   ],
   "source": [
    "print(\"Unique Labels in Training Set:\", len(np.unique(train_labels)))\n",
    "print(\"Unique Labels in Validation Set:\",len(np.unique(val_labels)))\n",
    "print(\"Unique Labels in Test Set:\",len(np.unique(test_labels)))"
   ]
  },
  {
   "cell_type": "code",
   "execution_count": 25,
   "metadata": {
    "colab": {
     "base_uri": "https://localhost:8080/"
    },
    "id": "ML6tgC-uw7Aa",
    "outputId": "59991873-7080-44e2-ccd4-06b787179144"
   },
   "outputs": [
    {
     "name": "stdout",
     "output_type": "stream",
     "text": [
      "Train Images and Labels Shape: (1456, 240, 200, 1) (1456, 26)\n",
      "Example One-Hot Encoded Label:\n",
      " [0. 0. 0. 0. 0. 0. 1. 0. 0. 0. 0. 0. 0. 0. 0. 0. 0. 0. 0. 0. 0. 0. 0. 0.\n",
      " 0. 0.]\n"
     ]
    }
   ],
   "source": [
    "from tensorflow.keras.utils import to_categorical\n",
    "\n",
    "num_classes = 26\n",
    "\n",
    "# convert integer labels to one-hot encoding\n",
    "train_labels = to_categorical(train_labels, num_classes=num_classes)\n",
    "val_labels = to_categorical(val_labels, num_classes=num_classes)\n",
    "test_labels = to_categorical(test_labels, num_classes=num_classes)\n",
    "\n",
    "print(\"Train Images and Labels Shape:\", train_images.shape, train_labels.shape)\n",
    "print(\"Example One-Hot Encoded Label:\\n\", train_labels[0])"
   ]
  },
  {
   "cell_type": "code",
   "execution_count": 26,
   "metadata": {
    "colab": {
     "base_uri": "https://localhost:8080/"
    },
    "id": "rVzLan3KHKJT",
    "outputId": "c10ceac8-1fac-4184-96a9-af393f8d8374"
   },
   "outputs": [
    {
     "name": "stdout",
     "output_type": "stream",
     "text": [
      "Resized Train: (1456, 48, 40, 1)\n",
      "Resized Val:   (312, 48, 40, 1)\n",
      "Resized Test:  (312, 48, 40, 1)\n"
     ]
    }
   ],
   "source": [
    "new_size = (40, 48)  # cv2 uses (width, height)\n",
    "\n",
    "def resize_dataset(images, new_size):\n",
    "    resized_images = []\n",
    "    for img in images:\n",
    "        # If image is (240, 200) without channel, add channel dimension\n",
    "        if img.ndim == 2:\n",
    "            img = np.expand_dims(img, axis=-1)\n",
    "        # Resize each image and preserve single channel\n",
    "        resized = cv2.resize(img, new_size, interpolation=cv2.INTER_AREA)\n",
    "        resized = np.expand_dims(resized, axis=-1)  # Ensure shape is (H, W, 1)\n",
    "        resized_images.append(resized)\n",
    "    return np.array(resized_images)\n",
    "\n",
    "train_images_resized = resize_dataset(train_images, new_size)\n",
    "val_images_resized   = resize_dataset(val_images, new_size)\n",
    "test_images_resized  = resize_dataset(test_images, new_size)\n",
    "\n",
    "print(\"Resized Train:\", train_images_resized.shape)\n",
    "print(\"Resized Val:  \", val_images_resized.shape)\n",
    "print(\"Resized Test: \", test_images_resized.shape)"
   ]
  },
  {
   "cell_type": "markdown",
   "metadata": {
    "id": "IglnJp8mt_0M"
   },
   "source": [
    "# CNN"
   ]
  },
  {
   "cell_type": "code",
   "execution_count": 27,
   "metadata": {
    "id": "N8xkFmnCssRR"
   },
   "outputs": [],
   "source": [
    "# # define CNN model\n",
    "# conv_model = models.Sequential()\n",
    "\n",
    "# conv_model.add(layers.Input(shape=(240, 200, 1)))\n",
    "# conv_model.add(layers.Conv2D(32, (3, 3), activation='relu'))\n",
    "# conv_model.add(layers.MaxPooling2D((2, 2)))\n",
    "\n",
    "# conv_model.add(layers.Conv2D(64, (3, 3), activation='relu'))\n",
    "# conv_model.add(layers.MaxPooling2D((2, 2)))\n",
    "\n",
    "# conv_modeel.add(layers.Flatten())\n",
    "# conv_model.add(layers.Dropout(0.5))  # dropout layer to prevent overfitting\n",
    "# conv_model.add(layers.Dense(256, activation='relu'))\n",
    "# conv_model.add(layers.Dense(26, activation='softmax'))\n",
    "\n",
    "model = models.Sequential()\n",
    "\n",
    "# Conv Block 1\n",
    "model.add(layers.Input(shape=(48, 40, 1))) #(shape=(240, 200, 1))\n",
    "model.add(layers.Conv2D(32, (3, 3), activation='relu'))\n",
    "model.add(layers.BatchNormalization())\n",
    "model.add(layers.MaxPooling2D(pool_size=(2, 2)))\n",
    "\n",
    "# Conv Block 2\n",
    "model.add(layers.Conv2D(64, (3, 3), activation='relu'))\n",
    "model.add(layers.BatchNormalization())\n",
    "model.add(layers.MaxPooling2D(pool_size=(2, 2)))\n",
    "\n",
    "# Conv Block 3\n",
    "model.add(layers.Conv2D(128, (3, 3), activation='relu'))\n",
    "model.add(layers.BatchNormalization())\n",
    "model.add(layers.MaxPooling2D(pool_size=(2, 2)))\n",
    "\n",
    "# Fully Connected Layers\n",
    "model.add(layers.Flatten())\n",
    "model.add(layers.Dense(256, activation='relu'))\n",
    "model.add(layers.Dropout(0.5))  # Reduces overfitting\n",
    "model.add(layers.Dense(26, activation='softmax'))  # 26 classes (A-Z)\n",
    "\n",
    "# compile model\n",
    "LEARNING_RATE = 1e-4\n",
    "model.compile(\n",
    "    loss='categorical_crossentropy',\n",
    "    optimizer = optimizers.Adam(learning_rate=LEARNING_RATE),\n",
    "    metrics=['accuracy']\n",
    ")\n",
    "\n",
    "# save initial weights\n",
    "initial_weights = model.get_weights()\n",
    "\n",
    "# model.save(\"model_run_4.keras\")  # This creates a folder with saved_model.pb + variables/"
   ]
  },
  {
   "cell_type": "code",
   "execution_count": 24,
   "metadata": {
    "colab": {
     "base_uri": "https://localhost:8080/"
    },
    "id": "fOgGGI3t4CKq",
    "outputId": "a63f545e-0a50-4531-da47-2b11ef13b7bb"
   },
   "outputs": [
    {
     "name": "stderr",
     "output_type": "stream",
     "text": [
      "2025-03-28 19:06:25.293319: I tensorflow/stream_executor/cuda/cuda_dnn.cc:384] Loaded cuDNN version 8100\n",
      "2025-03-28 19:06:37.391665: I tensorflow/stream_executor/cuda/cuda_blas.cc:1786] TensorFloat-32 will be used for the matrix multiplication. This will only be logged once.\n"
     ]
    },
    {
     "name": "stdout",
     "output_type": "stream",
     "text": [
      "1/1 [==============================] - 0s 121ms/step\n",
      "[ 8 20  7 20 20]\n",
      "[ 8  2 22 14  1]\n"
     ]
    }
   ],
   "source": [
    "small_X = train_images_resized[:5]\n",
    "small_Y = train_labels[:5]\n",
    "\n",
    "model.set_weights(initial_weights)  # Reset\n",
    "\n",
    "history = model.fit(\n",
    "    small_X, small_Y,\n",
    "    epochs=100,\n",
    "    verbose=0\n",
    ")\n",
    "\n",
    "preds = model.predict(small_X)\n",
    "print(np.argmax(preds, axis=1))\n",
    "print(np.argmax(small_Y, axis=1))"
   ]
  },
  {
   "cell_type": "code",
   "execution_count": 27,
   "metadata": {
    "colab": {
     "base_uri": "https://localhost:8080/"
    },
    "id": "4LMvXdhiPQYE",
    "outputId": "94e4541c-e130-47cc-b2b8-769d30a3f9fe"
   },
   "outputs": [],
   "source": [
    "#model = keras.models.load_model(\"V3_model_stripped.h5\")\n",
    "\n",
    "# compile model\n",
    "LEARNING_RATE = 1e-4\n",
    "model.compile(\n",
    "    loss='categorical_crossentropy',\n",
    "    optimizer = optimizers.Adam(learning_rate=LEARNING_RATE),\n",
    "    metrics=['accuracy']\n",
    ")"
   ]
  },
  {
   "cell_type": "code",
   "execution_count": null,
   "metadata": {
    "colab": {
     "base_uri": "https://localhost:8080/"
    },
    "id": "TN9CnQ8UxqGn",
    "outputId": "539674e4-413b-4008-a803-822a709646d3"
   },
   "outputs": [
    {
     "name": "stdout",
     "output_type": "stream",
     "text": [
      "Epoch 1/500\n"
     ]
    },
    {
     "name": "stderr",
     "output_type": "stream",
     "text": [
      "2025-03-28 22:34:30.294344: I tensorflow/stream_executor/cuda/cuda_dnn.cc:384] Loaded cuDNN version 8100\n",
      "2025-03-28 22:34:31.584831: I tensorflow/stream_executor/cuda/cuda_blas.cc:1786] TensorFloat-32 will be used for the matrix multiplication. This will only be logged once.\n"
     ]
    },
    {
     "name": "stdout",
     "output_type": "stream",
     "text": [
      "91/91 [==============================] - 5s 6ms/step - loss: 3.0326 - accuracy: 0.2534 - val_loss: 3.4986 - val_accuracy: 0.0962 - lr: 1.0000e-04\n",
      "Epoch 2/500\n",
      "91/91 [==============================] - 0s 3ms/step - loss: 1.1585 - accuracy: 0.6518 - val_loss: 3.5793 - val_accuracy: 0.1218 - lr: 1.0000e-04\n",
      "Epoch 3/500\n",
      "91/91 [==============================] - 0s 5ms/step - loss: 0.6105 - accuracy: 0.8207 - val_loss: 3.0565 - val_accuracy: 0.1731 - lr: 1.0000e-04\n",
      "Epoch 4/500\n",
      "91/91 [==============================] - 0s 5ms/step - loss: 0.3482 - accuracy: 0.9141 - val_loss: 2.0923 - val_accuracy: 0.3141 - lr: 1.0000e-04\n",
      "Epoch 5/500\n",
      "91/91 [==============================] - 0s 4ms/step - loss: 0.2505 - accuracy: 0.9348 - val_loss: 1.0322 - val_accuracy: 0.7404 - lr: 1.0000e-04\n",
      "Epoch 6/500\n",
      "91/91 [==============================] - 0s 4ms/step - loss: 0.1867 - accuracy: 0.9581 - val_loss: 0.4148 - val_accuracy: 0.9103 - lr: 1.0000e-04\n",
      "Epoch 7/500\n",
      "91/91 [==============================] - 0s 5ms/step - loss: 0.1271 - accuracy: 0.9718 - val_loss: 0.1727 - val_accuracy: 0.9776 - lr: 1.0000e-04\n",
      "Epoch 8/500\n",
      "91/91 [==============================] - 0s 5ms/step - loss: 0.1174 - accuracy: 0.9732 - val_loss: 0.1100 - val_accuracy: 0.9776 - lr: 1.0000e-04\n",
      "Epoch 9/500\n",
      "91/91 [==============================] - 0s 4ms/step - loss: 0.0792 - accuracy: 0.9897 - val_loss: 0.0714 - val_accuracy: 0.9840 - lr: 1.0000e-04\n",
      "Epoch 10/500\n",
      "91/91 [==============================] - 0s 4ms/step - loss: 0.0643 - accuracy: 0.9890 - val_loss: 0.0635 - val_accuracy: 0.9840 - lr: 1.0000e-04\n",
      "Epoch 11/500\n",
      "91/91 [==============================] - 0s 4ms/step - loss: 0.0555 - accuracy: 0.9897 - val_loss: 0.0567 - val_accuracy: 0.9904 - lr: 1.0000e-04\n",
      "Epoch 12/500\n",
      "91/91 [==============================] - 0s 4ms/step - loss: 0.0493 - accuracy: 0.9897 - val_loss: 0.0508 - val_accuracy: 0.9840 - lr: 1.0000e-04\n",
      "Epoch 13/500\n",
      "91/91 [==============================] - 0s 3ms/step - loss: 0.0407 - accuracy: 0.9911 - val_loss: 0.0420 - val_accuracy: 0.9904 - lr: 1.0000e-04\n",
      "Epoch 14/500\n",
      "91/91 [==============================] - 0s 4ms/step - loss: 0.0372 - accuracy: 0.9924 - val_loss: 0.0402 - val_accuracy: 0.9904 - lr: 1.0000e-04\n",
      "Epoch 15/500\n",
      "91/91 [==============================] - 0s 4ms/step - loss: 0.0317 - accuracy: 0.9938 - val_loss: 0.0472 - val_accuracy: 0.9904 - lr: 1.0000e-04\n",
      "Epoch 16/500\n",
      "91/91 [==============================] - 0s 3ms/step - loss: 0.0265 - accuracy: 0.9945 - val_loss: 0.0473 - val_accuracy: 0.9872 - lr: 1.0000e-04\n",
      "Epoch 17/500\n",
      "91/91 [==============================] - 0s 4ms/step - loss: 0.0210 - accuracy: 0.9986 - val_loss: 0.0323 - val_accuracy: 0.9904 - lr: 1.0000e-04\n",
      "Epoch 18/500\n",
      "91/91 [==============================] - 0s 4ms/step - loss: 0.0259 - accuracy: 0.9952 - val_loss: 0.0390 - val_accuracy: 0.9872 - lr: 1.0000e-04\n",
      "Epoch 19/500\n",
      "91/91 [==============================] - 0s 5ms/step - loss: 0.0253 - accuracy: 0.9938 - val_loss: 0.0312 - val_accuracy: 0.9904 - lr: 1.0000e-04\n",
      "Epoch 20/500\n",
      "91/91 [==============================] - 0s 4ms/step - loss: 0.0227 - accuracy: 0.9959 - val_loss: 0.0317 - val_accuracy: 0.9904 - lr: 1.0000e-04\n",
      "Epoch 21/500\n",
      "91/91 [==============================] - 0s 3ms/step - loss: 0.0213 - accuracy: 0.9959 - val_loss: 0.0334 - val_accuracy: 0.9904 - lr: 1.0000e-04\n",
      "Epoch 22/500\n",
      "91/91 [==============================] - 0s 4ms/step - loss: 0.0176 - accuracy: 0.9973 - val_loss: 0.0285 - val_accuracy: 0.9904 - lr: 1.0000e-04\n",
      "Epoch 23/500\n",
      "91/91 [==============================] - 0s 5ms/step - loss: 0.0160 - accuracy: 0.9966 - val_loss: 0.0253 - val_accuracy: 0.9904 - lr: 1.0000e-04\n",
      "Epoch 24/500\n",
      "91/91 [==============================] - 0s 5ms/step - loss: 0.0119 - accuracy: 0.9986 - val_loss: 0.0269 - val_accuracy: 0.9904 - lr: 1.0000e-04\n",
      "Epoch 25/500\n",
      "91/91 [==============================] - 0s 4ms/step - loss: 0.0123 - accuracy: 0.9986 - val_loss: 0.0316 - val_accuracy: 0.9904 - lr: 1.0000e-04\n",
      "Epoch 26/500\n",
      "91/91 [==============================] - 0s 5ms/step - loss: 0.0116 - accuracy: 0.9986 - val_loss: 0.0266 - val_accuracy: 0.9904 - lr: 1.0000e-04\n",
      "Epoch 27/500\n",
      "91/91 [==============================] - 0s 4ms/step - loss: 0.0175 - accuracy: 0.9959 - val_loss: 0.0311 - val_accuracy: 0.9872 - lr: 1.0000e-04\n",
      "Epoch 28/500\n",
      "91/91 [==============================] - 0s 5ms/step - loss: 0.0111 - accuracy: 0.9986 - val_loss: 0.0308 - val_accuracy: 0.9872 - lr: 1.0000e-04\n",
      "Epoch 29/500\n",
      "91/91 [==============================] - 0s 4ms/step - loss: 0.0084 - accuracy: 1.0000 - val_loss: 0.0258 - val_accuracy: 0.9904 - lr: 1.0000e-04\n",
      "Epoch 30/500\n",
      "91/91 [==============================] - 0s 5ms/step - loss: 0.0079 - accuracy: 1.0000 - val_loss: 0.0226 - val_accuracy: 0.9904 - lr: 1.0000e-04\n",
      "Epoch 31/500\n",
      "91/91 [==============================] - 0s 4ms/step - loss: 0.0093 - accuracy: 0.9973 - val_loss: 0.0254 - val_accuracy: 0.9840 - lr: 1.0000e-04\n",
      "Epoch 32/500\n",
      "91/91 [==============================] - 0s 4ms/step - loss: 0.0047 - accuracy: 1.0000 - val_loss: 0.0188 - val_accuracy: 0.9904 - lr: 1.0000e-04\n",
      "Epoch 33/500\n",
      "91/91 [==============================] - 0s 4ms/step - loss: 0.0058 - accuracy: 0.9993 - val_loss: 0.0157 - val_accuracy: 0.9936 - lr: 1.0000e-04\n",
      "Epoch 34/500\n",
      "91/91 [==============================] - 0s 4ms/step - loss: 0.0067 - accuracy: 0.9986 - val_loss: 0.0166 - val_accuracy: 0.9904 - lr: 1.0000e-04\n",
      "Epoch 35/500\n",
      "91/91 [==============================] - 0s 4ms/step - loss: 0.0072 - accuracy: 0.9986 - val_loss: 0.0246 - val_accuracy: 0.9904 - lr: 1.0000e-04\n",
      "Epoch 36/500\n",
      "91/91 [==============================] - 0s 4ms/step - loss: 0.0048 - accuracy: 1.0000 - val_loss: 0.0195 - val_accuracy: 0.9936 - lr: 1.0000e-04\n",
      "Epoch 37/500\n",
      "91/91 [==============================] - 0s 4ms/step - loss: 0.0088 - accuracy: 0.9986 - val_loss: 0.0255 - val_accuracy: 0.9872 - lr: 1.0000e-04\n",
      "Epoch 38/500\n",
      "91/91 [==============================] - 0s 5ms/step - loss: 0.0061 - accuracy: 0.9993 - val_loss: 0.0167 - val_accuracy: 0.9904 - lr: 1.0000e-04\n",
      "Epoch 39/500\n",
      "91/91 [==============================] - 0s 4ms/step - loss: 0.0043 - accuracy: 0.9986 - val_loss: 0.0194 - val_accuracy: 0.9904 - lr: 1.0000e-04\n",
      "Epoch 40/500\n",
      "89/91 [============================>.] - ETA: 0s - loss: 0.0069 - accuracy: 1.0000\n",
      "Epoch 40: ReduceLROnPlateau reducing learning rate to 4.999999873689376e-05.\n",
      "91/91 [==============================] - 0s 4ms/step - loss: 0.0071 - accuracy: 1.0000 - val_loss: 0.0175 - val_accuracy: 0.9904 - lr: 1.0000e-04\n",
      "Epoch 41/500\n",
      "91/91 [==============================] - 0s 4ms/step - loss: 0.0030 - accuracy: 1.0000 - val_loss: 0.0152 - val_accuracy: 0.9936 - lr: 5.0000e-05\n",
      "Epoch 42/500\n",
      "91/91 [==============================] - 0s 3ms/step - loss: 0.0039 - accuracy: 1.0000 - val_loss: 0.0158 - val_accuracy: 0.9904 - lr: 5.0000e-05\n",
      "Epoch 43/500\n",
      "91/91 [==============================] - 0s 4ms/step - loss: 0.0040 - accuracy: 0.9993 - val_loss: 0.0164 - val_accuracy: 0.9936 - lr: 5.0000e-05\n",
      "Epoch 44/500\n",
      "91/91 [==============================] - 0s 4ms/step - loss: 0.0046 - accuracy: 0.9986 - val_loss: 0.0183 - val_accuracy: 0.9968 - lr: 5.0000e-05\n",
      "Epoch 45/500\n",
      "91/91 [==============================] - 0s 4ms/step - loss: 0.0034 - accuracy: 1.0000 - val_loss: 0.0172 - val_accuracy: 0.9936 - lr: 5.0000e-05\n",
      "Epoch 46/500\n",
      "91/91 [==============================] - 0s 4ms/step - loss: 0.0051 - accuracy: 0.9993 - val_loss: 0.0184 - val_accuracy: 0.9936 - lr: 5.0000e-05\n",
      "Epoch 47/500\n",
      "91/91 [==============================] - 0s 5ms/step - loss: 0.0031 - accuracy: 1.0000 - val_loss: 0.0164 - val_accuracy: 0.9904 - lr: 5.0000e-05\n",
      "Epoch 48/500\n",
      "91/91 [==============================] - 0s 4ms/step - loss: 0.0026 - accuracy: 1.0000 - val_loss: 0.0145 - val_accuracy: 0.9936 - lr: 5.0000e-05\n",
      "Epoch 49/500\n",
      "91/91 [==============================] - 0s 5ms/step - loss: 0.0027 - accuracy: 1.0000 - val_loss: 0.0151 - val_accuracy: 0.9936 - lr: 5.0000e-05\n",
      "Epoch 50/500\n",
      "91/91 [==============================] - 0s 4ms/step - loss: 0.0018 - accuracy: 1.0000 - val_loss: 0.0154 - val_accuracy: 0.9904 - lr: 5.0000e-05\n",
      "Epoch 51/500\n",
      "91/91 [==============================] - 0s 4ms/step - loss: 0.0037 - accuracy: 1.0000 - val_loss: 0.0142 - val_accuracy: 0.9936 - lr: 5.0000e-05\n",
      "Epoch 52/500\n",
      "91/91 [==============================] - 0s 3ms/step - loss: 0.0024 - accuracy: 1.0000 - val_loss: 0.0129 - val_accuracy: 0.9936 - lr: 5.0000e-05\n",
      "Epoch 53/500\n",
      "57/91 [=================>............] - ETA: 0s - loss: 0.0014 - accuracy: 1.0000"
     ]
    }
   ],
   "source": [
    "# set weights (either reset or load saved weights)\n",
    "# model.set_weights(initial_weights)\n",
    "#model.load_weights(f\"V2_weights_run_3.weights.h5\")\n",
    "\n",
    "EPOCHS = 500\n",
    "BATCH_SIZE = 16\n",
    "\n",
    "callbacks = [\n",
    "        tf.keras.callbacks.EarlyStopping(\n",
    "            monitor='val_loss',\n",
    "            patience=50,  # Increased from 10\n",
    "            min_delta=0.00001,  # Minimum change to qualify as improvement\n",
    "            mode='min',\n",
    "            restore_best_weights=True\n",
    "        ),\n",
    "        tf.keras.callbacks.ReduceLROnPlateau(\n",
    "            monitor='val_loss',\n",
    "            factor=0.5,\n",
    "            patience=7,  # Wait longer before reducing LR\n",
    "            verbose=1\n",
    "        )\n",
    "    ]\n",
    "\n",
    "history_conv = model.fit(\n",
    "    train_images_resized, train_labels,\n",
    "    validation_data=(val_images_resized, val_labels),\n",
    "    epochs=EPOCHS,\n",
    "    callbacks=callbacks,\n",
    "    batch_size=BATCH_SIZE\n",
    ")\n",
    "\n",
    "model.save_weights(f\"V2_weights_run_4.weights.h5\")\n",
    "model.save(\"/home/fizzer/ros_ws/training_for_reading/V4_model_stripped.h5\", include_optimizer=False)"
   ]
  },
  {
   "cell_type": "code",
   "execution_count": 31,
   "metadata": {
    "colab": {
     "base_uri": "https://localhost:8080/",
     "height": 472
    },
    "id": "T0VZu3ityryj",
    "outputId": "67c7fe82-4e81-4f23-d18d-b853447e28bd"
   },
   "outputs": [
    {
     "data": {
      "image/png": "[encoded data removed]",
      "text/plain": [
       "<Figure size 640x480 with 1 Axes>"
      ]
     },
     "metadata": {},
     "output_type": "display_data"
    }
   ],
   "source": [
    "plt.plot(history_conv.history['loss'])\n",
    "plt.plot(history_conv.history['val_loss'])\n",
    "plt.title('model loss')\n",
    "plt.ylabel('loss')\n",
    "plt.xlabel('epoch')\n",
    "plt.legend(['train loss', 'val loss'], loc='upper left')\n",
    "plt.show()"
   ]
  },
  {
   "cell_type": "code",
   "execution_count": 32,
   "metadata": {
    "colab": {
     "base_uri": "https://localhost:8080/",
     "height": 613
    },
    "id": "V-LO_6CxJhqh",
    "outputId": "fe3dbe06-2996-4289-cae2-cac8af2d2c1d"
   },
   "outputs": [
    {
     "name": "stdout",
     "output_type": "stream",
     "text": [
      "Model: \"sequential_1\"\n",
      "_________________________________________________________________\n",
      " Layer (type)                Output Shape              Param #   \n",
      "=================================================================\n",
      " conv2d_3 (Conv2D)           (None, 46, 38, 32)        320       \n",
      "                                                                 \n",
      " batch_normalization_3 (Batc  (None, 46, 38, 32)       128       \n",
      " hNormalization)                                                 \n",
      "                                                                 \n",
      " max_pooling2d_3 (MaxPooling  (None, 23, 19, 32)       0         \n",
      " 2D)                                                             \n",
      "                                                                 \n",
      " conv2d_4 (Conv2D)           (None, 21, 17, 64)        18496     \n",
      "                                                                 \n",
      " batch_normalization_4 (Batc  (None, 21, 17, 64)       256       \n",
      " hNormalization)                                                 \n",
      "                                                                 \n",
      " max_pooling2d_4 (MaxPooling  (None, 10, 8, 64)        0         \n",
      " 2D)                                                             \n",
      "                                                                 \n",
      " conv2d_5 (Conv2D)           (None, 8, 6, 128)         73856     \n",
      "                                                                 \n",
      " batch_normalization_5 (Batc  (None, 8, 6, 128)        512       \n",
      " hNormalization)                                                 \n",
      "                                                                 \n",
      " max_pooling2d_5 (MaxPooling  (None, 4, 3, 128)        0         \n",
      " 2D)                                                             \n",
      "                                                                 \n",
      " flatten_1 (Flatten)         (None, 1536)              0         \n",
      "                                                                 \n",
      " dense_2 (Dense)             (None, 256)               393472    \n",
      "                                                                 \n",
      " dropout_1 (Dropout)         (None, 256)               0         \n",
      "                                                                 \n",
      " dense_3 (Dense)             (None, 26)                6682      \n",
      "                                                                 \n",
      "=================================================================\n",
      "Total params: 493,722\n",
      "Trainable params: 493,274\n",
      "Non-trainable params: 448\n",
      "_________________________________________________________________\n"
     ]
    }
   ],
   "source": [
    "model.summary()"
   ]
  },
  {
   "cell_type": "code",
   "execution_count": 33,
   "metadata": {
    "colab": {
     "base_uri": "https://localhost:8080/",
     "height": 493
    },
    "id": "LVKm6FOI5BR5",
    "outputId": "c0580841-d5b6-4253-d72b-345c1cb00fdf"
   },
   "outputs": [
    {
     "data": {
      "image/png": "[encoded data removed]",
      "text/plain": [
       "<Figure size 640x480 with 1 Axes>"
      ]
     },
     "metadata": {},
     "output_type": "display_data"
    },
    {
     "name": "stdout",
     "output_type": "stream",
     "text": [
      "True label (one-hot): [0. 0. 0. 0. 0. 0. 0. 0. 0. 0. 0. 0. 0. 0. 0. 0. 0. 0. 0. 1. 0. 0. 0. 0.\n",
      " 0. 0.]\n",
      "True label (letter): T\n",
      "1/1 [==============================] - 0s 74ms/step\n",
      "Predicted label (letter): T\n"
     ]
    }
   ],
   "source": [
    "plt.imshow(test_images_resized[10].squeeze(), cmap='gray')  # squeeze to remove extra dimension\n",
    "plt.axis('off')\n",
    "plt.show()\n",
    "\n",
    "print(\"True label (one-hot):\", test_labels[10])\n",
    "\n",
    "true_class = np.argmax(test_labels[10])\n",
    "print(\"True label (letter):\", chr(true_class + 65))\n",
    "\n",
    "pred = model.predict(np.expand_dims(test_images_resized[10], axis=0))\n",
    "predicted_class = np.argmax(pred)\n",
    "print(\"Predicted label (letter):\", chr(predicted_class + 65))\n"
   ]
  },
  {
   "cell_type": "code",
   "execution_count": 34,
   "metadata": {
    "colab": {
     "base_uri": "https://localhost:8080/",
     "height": 1000
    },
    "id": "geFYO1-Ozl9c",
    "outputId": "d9c57c9d-5fff-496e-a116-8fe20631979d"
   },
   "outputs": [
    {
     "ename": "ModuleNotFoundError",
     "evalue": "No module named 'seaborn'",
     "output_type": "error",
     "traceback": [
      "\u001b[0;31m---------------------------------------------------------------------------\u001b[0m",
      "\u001b[0;31mModuleNotFoundError\u001b[0m                       Traceback (most recent call last)",
      "Cell \u001b[0;32mIn[34], line 3\u001b[0m\n\u001b[1;32m      1\u001b[0m \u001b[38;5;28;01mfrom\u001b[39;00m\u001b[38;5;250m \u001b[39m\u001b[38;5;21;01msklearn\u001b[39;00m\u001b[38;5;21;01m.\u001b[39;00m\u001b[38;5;21;01mmetrics\u001b[39;00m\u001b[38;5;250m \u001b[39m\u001b[38;5;28;01mimport\u001b[39;00m classification_report, confusion_matrix\n\u001b[1;32m      2\u001b[0m \u001b[38;5;28;01mimport\u001b[39;00m\u001b[38;5;250m \u001b[39m\u001b[38;5;21;01mmatplotlib\u001b[39;00m\u001b[38;5;21;01m.\u001b[39;00m\u001b[38;5;21;01mpyplot\u001b[39;00m\u001b[38;5;250m \u001b[39m\u001b[38;5;28;01mas\u001b[39;00m\u001b[38;5;250m \u001b[39m\u001b[38;5;21;01mplt\u001b[39;00m\n\u001b[0;32m----> 3\u001b[0m \u001b[38;5;28;01mimport\u001b[39;00m\u001b[38;5;250m \u001b[39m\u001b[38;5;21;01mseaborn\u001b[39;00m\u001b[38;5;250m \u001b[39m\u001b[38;5;28;01mas\u001b[39;00m\u001b[38;5;250m \u001b[39m\u001b[38;5;21;01msns\u001b[39;00m\n\u001b[1;32m      4\u001b[0m \u001b[38;5;28;01mimport\u001b[39;00m\u001b[38;5;250m \u001b[39m\u001b[38;5;21;01mnumpy\u001b[39;00m\u001b[38;5;250m \u001b[39m\u001b[38;5;28;01mas\u001b[39;00m\u001b[38;5;250m \u001b[39m\u001b[38;5;21;01mnp\u001b[39;00m\n\u001b[1;32m      6\u001b[0m test_loss, test_acc \u001b[38;5;241m=\u001b[39m model\u001b[38;5;241m.\u001b[39mevaluate(test_images_resized, test_labels, verbose\u001b[38;5;241m=\u001b[39m\u001b[38;5;241m0\u001b[39m)\n",
      "\u001b[0;31mModuleNotFoundError\u001b[0m: No module named 'seaborn'"
     ]
    }
   ],
   "source": [
    "from sklearn.metrics import classification_report, confusion_matrix\n",
    "import matplotlib.pyplot as plt\n",
    "import seaborn as sns\n",
    "import numpy as np\n",
    "\n",
    "test_loss, test_acc = model.evaluate(test_images_resized, test_labels, verbose=0)\n",
    "print(f\"Test accuracy: {test_acc:.4f} | Test loss: {test_loss:.4f}\")\n",
    "\n",
    "predictions = model.predict(test_images_resized)\n",
    "\n",
    "predicted_classes = np.argmax(predictions, axis=1)\n",
    "true_classes = np.argmax(test_labels, axis=1)\n",
    "\n",
    "print(\"Classification Report:\\n\")\n",
    "print(classification_report(true_classes, predicted_classes, digits=3))\n",
    "\n",
    "conf_matrix = confusion_matrix(true_classes, predicted_classes)\n",
    "\n",
    "plt.figure(figsize=(12, 10))\n",
    "sns.heatmap(conf_matrix, annot=True, fmt='d',\n",
    "            cmap='Blues',\n",
    "            xticklabels=[chr(i) for i in range(65, 91)],\n",
    "            yticklabels=[chr(i) for i in range(65, 91)])\n",
    "plt.xlabel(\"Predicted Label\")\n",
    "plt.ylabel(\"True Label\")\n",
    "plt.title(\"Confusion Matrix\")\n",
    "plt.show()"
   ]
  },
  {
   "cell_type": "markdown",
   "metadata": {
    "id": "3itqu6pqKBnV"
   },
   "source": [
    "# Model saving, quantization, attempted pruning"
   ]
  },
  {
   "cell_type": "code",
   "execution_count": null,
   "metadata": {
    "colab": {
     "base_uri": "https://localhost:8080/"
    },
    "id": "T45kOEezJYdE",
    "outputId": "2a473bfb-e8d4-4d9e-d207-97da40e3bc7b"
   },
   "outputs": [
    {
     "name": "stderr",
     "output_type": "stream",
     "text": [
      "WARNING:absl:You are saving your model as an HDF5 file via `model.save()` or `keras.saving.save_model(model)`. This file format is considered legacy. We recommend using instead the native Keras format, e.g. `model.save('my_model.keras')` or `keras.saving.save_model(model, 'my_model.keras')`. \n"
     ]
    }
   ],
   "source": [
    "model.save(\"V3_model_stripped.h5\", include_optimizer=False)"
   ]
  },
  {
   "cell_type": "code",
   "execution_count": null,
   "metadata": {
    "colab": {
     "base_uri": "https://localhost:8080/"
    },
    "id": "INafrXv85wrO",
    "outputId": "87062569-86be-4b40-df39-fb39235b1d4e"
   },
   "outputs": [
    {
     "name": "stdout",
     "output_type": "stream",
     "text": [
      "Saved artifact at '/tmp/tmp5wocdxet'. The following endpoints are available:\n",
      "\n",
      "* Endpoint 'serve'\n",
      "  args_0 (POSITIONAL_ONLY): TensorSpec(shape=(None, 48, 40, 1), dtype=tf.float32, name='keras_tensor_276')\n",
      "Output Type:\n",
      "  TensorSpec(shape=(None, 26), dtype=tf.float32, name=None)\n",
      "Captures:\n",
      "  133348874365712: TensorSpec(shape=(), dtype=tf.resource, name=None)\n",
      "  133348874366288: TensorSpec(shape=(), dtype=tf.resource, name=None)\n",
      "  133348874365520: TensorSpec(shape=(), dtype=tf.resource, name=None)\n",
      "  133348874367056: TensorSpec(shape=(), dtype=tf.resource, name=None)\n",
      "  133348874366480: TensorSpec(shape=(), dtype=tf.resource, name=None)\n",
      "  133348874365904: TensorSpec(shape=(), dtype=tf.resource, name=None)\n",
      "  133348874367440: TensorSpec(shape=(), dtype=tf.resource, name=None)\n",
      "  133348874368976: TensorSpec(shape=(), dtype=tf.resource, name=None)\n",
      "  133348874367824: TensorSpec(shape=(), dtype=tf.resource, name=None)\n",
      "  133348874369360: TensorSpec(shape=(), dtype=tf.resource, name=None)\n",
      "  133348874366864: TensorSpec(shape=(), dtype=tf.resource, name=None)\n",
      "  133348874368592: TensorSpec(shape=(), dtype=tf.resource, name=None)\n",
      "  133348874369744: TensorSpec(shape=(), dtype=tf.resource, name=None)\n",
      "  133348874370704: TensorSpec(shape=(), dtype=tf.resource, name=None)\n",
      "  133348874368784: TensorSpec(shape=(), dtype=tf.resource, name=None)\n",
      "  133345692910224: TensorSpec(shape=(), dtype=tf.resource, name=None)\n",
      "  133348874370512: TensorSpec(shape=(), dtype=tf.resource, name=None)\n",
      "  133348874370896: TensorSpec(shape=(), dtype=tf.resource, name=None)\n",
      "  133345692911376: TensorSpec(shape=(), dtype=tf.resource, name=None)\n",
      "  133345692912336: TensorSpec(shape=(), dtype=tf.resource, name=None)\n",
      "  133345692911760: TensorSpec(shape=(), dtype=tf.resource, name=None)\n",
      "  133345692913488: TensorSpec(shape=(), dtype=tf.resource, name=None)\n"
     ]
    }
   ],
   "source": [
    "converter = tf.lite.TFLiteConverter.from_keras_model(model)\n",
    "converter.optimizations = [tf.lite.Optimize.DEFAULT]\n",
    "tflite_model = converter.convert()\n",
    "\n",
    "with open(\"V2_model_quantized.tflite\", \"wb\") as f:\n",
    "    f.write(tflite_model)"
   ]
  },
  {
   "cell_type": "code",
   "execution_count": null,
   "metadata": {
    "id": "bEgokInhD8N9"
   },
   "outputs": [],
   "source": [
    "import tempfile  # Library for creating temporary files and directories\n",
    "from tensorflow_model_optimization.python.core.sparsity.keras.pruning_wrapper import PruneLowMagnitude  # Pruning wrapper for Keras models\n",
    "import tensorflow_model_optimization as tfmot  # TensorFlow Model Optimization toolkit\n",
    "\n",
    "from tensorflow import keras\n",
    "\n",
    "model = keras.models.load_model(\"model_run_4.keras\")\n",
    "\n",
    "model.summary()\n",
    "\n",
    "\n",
    "def get_gzipped_model_size(file):\n",
    "  # Returns size of gzipped model, in bytes.\n",
    "  import os\n",
    "  import zipfile\n",
    "\n",
    "  _, zipped_file = tempfile.mkstemp('.zip')\n",
    "  with zipfile.ZipFile(zipped_file, 'w', compression=zipfile.ZIP_DEFLATED) as f:\n",
    "    f.write(file)\n",
    "\n",
    "  return os.path.getsize(zipped_file)\n",
    "\n",
    "# Convert the pruned Keras model to a quantized TensorFlow Lite model\n",
    "converter = tf.lite.TFLiteConverter.from_keras_model(model)\n",
    "converter.optimizations = [tf.lite.Optimize.DEFAULT]\n",
    "quantized_and_pruned_tflite_model = converter.convert()\n",
    "\n",
    "# Save the quantized and pruned TensorFlow Lite model to a temporary file\n",
    "_, quantized_and_pruned_tflite_file = tempfile.mkstemp('.tflite')\n",
    "with open(quantized_and_pruned_tflite_file, 'wb') as f:\n",
    "  f.write(quantized_and_pruned_tflite_model)\n",
    "\n",
    "# Print the path to the saved quantized and pruned TFLite model\n",
    "print('Saved quantized and pruned TFLite model to:', quantized_and_pruned_tflite_file)\n",
    "\n",
    "# Calculate and print the sizes of the gzipped models\n",
    "# print(\"Size of gzipped baseline Keras model: %.2f bytes\" % (keras_size))\n",
    "quantized_and_pruned_tflite_size = get_gzipped_model_size(quantized_and_pruned_tflite_file)\n",
    "print(\"Size of gzipped pruned and quantized TFlite model: %.2f bytes\" % (quantized_and_pruned_tflite_size))\n"
   ]
  },
  {
   "cell_type": "code",
   "execution_count": null,
   "metadata": {
    "id": "mWZRGCzZH-He"
   },
   "outputs": [],
   "source": [
    "model.save(\"model_stripped.h5\", include_optimizer=False)\n",
    "\n",
    "import tensorflow as tf\n",
    "\n",
    "converter = tf.lite.TFLiteConverter.from_keras_model(model)\n",
    "converter.optimizations = [tf.lite.Optimize.DEFAULT]\n",
    "tflite_model = converter.convert()\n",
    "\n",
    "with open(\"model_quantized.tflite\", \"wb\") as f:\n",
    "    f.write(tflite_model)"
   ]
  }
 ],
 "metadata": {
  "accelerator": "GPU",
  "colab": {
   "gpuType": "T4",
   "provenance": []
  },
  "kernelspec": {
   "display_name": "Python 3 (ipykernel)",
   "language": "python",
   "name": "python3"
  },
  "language_info": {
   "codemirror_mode": {
    "name": "ipython",
    "version": 3
   },
   "file_extension": ".py",
   "mimetype": "text/x-python",
   "name": "python",
   "nbconvert_exporter": "python",
   "pygments_lexer": "ipython3",
   "version": "3.8.10"
  }
 },
 "nbformat": 4,
 "nbformat_minor": 4
}
